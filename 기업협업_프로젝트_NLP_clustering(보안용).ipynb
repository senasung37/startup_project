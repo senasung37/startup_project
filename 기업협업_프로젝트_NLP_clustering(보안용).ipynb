{
  "nbformat": 4,
  "nbformat_minor": 0,
  "metadata": {
    "colab": {
      "name": "기업협업_프로젝트_NLP_clustering(보안용).ipynb",
      "provenance": [],
      "collapsed_sections": [],
      "authorship_tag": "ABX9TyNnI745P33KpjeA9vISsi/i",
      "include_colab_link": true
    },
    "kernelspec": {
      "name": "python3",
      "display_name": "Python 3"
    },
    "language_info": {
      "name": "python"
    },
    "accelerator": "GPU",
    "gpuClass": "standard"
  },
  "cells": [
    {
      "cell_type": "markdown",
      "metadata": {
        "id": "view-in-github",
        "colab_type": "text"
      },
      "source": [
        "<a href=\"https://colab.research.google.com/github/senasung37/startup_project/blob/main/%EA%B8%B0%EC%97%85%ED%98%91%EC%97%85_%ED%94%84%EB%A1%9C%EC%A0%9D%ED%8A%B8_NLP_clustering(%EB%B3%B4%EC%95%88%EC%9A%A9).ipynb\" target=\"_parent\"><img src=\"https://colab.research.google.com/assets/colab-badge.svg\" alt=\"Open In Colab\"/></a>"
      ]
    },
    {
      "cell_type": "markdown",
      "source": [
        "# 연습 - 문장 클러스터링(예제코드)\n"
      ],
      "metadata": {
        "id": "YrXRl9V_kLb8"
      }
    },
    {
      "cell_type": "markdown",
      "source": [
        "출처: http://ai.intelligentonlinetools.com/ml/text-clustering-word-embedding-machine-learning/"
      ],
      "metadata": {
        "id": "Y6oB_aV5kWte"
      }
    },
    {
      "cell_type": "code",
      "source": [
        "#라이브러리\n",
        "from gensim.models import Word2Vec\n",
        "  \n",
        "from nltk.cluster import KMeansClusterer\n",
        "import nltk\n",
        "import numpy as np \n",
        "  \n",
        "from sklearn import cluster\n",
        "from sklearn import metrics"
      ],
      "metadata": {
        "id": "Fs7QFau4UyXR"
      },
      "execution_count": null,
      "outputs": []
    },
    {
      "cell_type": "code",
      "execution_count": null,
      "metadata": {
        "id": "135q_ro1UNel"
      },
      "outputs": [],
      "source": [
        "#문장 지정\n",
        "  \n",
        "sentences = [['this', 'is', 'the', 'one','good', 'machine', 'learning', 'book'],\n",
        "            ['this', 'is',  'another', 'book'],\n",
        "            ['one', 'more', 'book'],\n",
        "            ['weather', 'rain', 'snow'],\n",
        "            ['yesterday', 'weather', 'snow'],\n",
        "            ['forecast', 'tomorrow', 'rain', 'snow'],\n",
        "            ['this', 'is', 'the', 'new', 'post'],\n",
        "            ['this', 'is', 'about', 'more', 'machine', 'learning', 'post'],  \n",
        "            ['and', 'this', 'is', 'the', 'one', 'last', 'post', 'book']]"
      ]
    },
    {
      "cell_type": "code",
      "source": [
        "#W2V 모델 정의\n",
        "model = Word2Vec(sentences, min_count=1) "
      ],
      "metadata": {
        "id": "mf3EZc3SU9ON",
        "colab": {
          "base_uri": "https://localhost:8080/"
        },
        "outputId": "c99251b3-9df1-4265-a8a5-0d23d15098db"
      },
      "execution_count": null,
      "outputs": [
        {
          "output_type": "stream",
          "name": "stderr",
          "text": [
            "WARNING:gensim.models.base_any2vec:under 10 jobs per worker: consider setting a smaller `batch_words' for smoother alpha decay\n"
          ]
        }
      ]
    },
    {
      "cell_type": "code",
      "source": [
        "#문장 벡터라이징 함수\n",
        "def sent_vectorizer(sent, model):\n",
        "    sent_vec =[]\n",
        "    numw = 0\n",
        "    for w in sent:\n",
        "        try:\n",
        "            if numw == 0:\n",
        "                sent_vec = model[w]\n",
        "            else:\n",
        "                sent_vec = np.add(sent_vec, model[w])\n",
        "            numw+=1\n",
        "        except:\n",
        "            pass\n",
        "     \n",
        "    return np.asarray(sent_vec) / numw"
      ],
      "metadata": {
        "id": "ZMSsWaAH484G"
      },
      "execution_count": null,
      "outputs": []
    },
    {
      "cell_type": "code",
      "source": [
        "#문장 벡터라이징\n",
        "X=[]\n",
        "for sentence in sentences:\n",
        "    X.append(sent_vectorizer(sentence, model))   \n",
        " \n",
        "print (\"========================\")\n",
        "print (X[:1])"
      ],
      "metadata": {
        "colab": {
          "base_uri": "https://localhost:8080/"
        },
        "id": "0Pm3wsISjUys",
        "outputId": "348ed8d9-055b-462c-ed39-f7e44329d104"
      },
      "execution_count": null,
      "outputs": [
        {
          "output_type": "stream",
          "name": "stdout",
          "text": [
            "========================\n",
            "[array([ 4.22335230e-04,  1.34081522e-03,  1.51203421e-03,  7.49444589e-04,\n",
            "        7.11252971e-04,  7.96128064e-04, -7.69776234e-04,  8.50202050e-05,\n",
            "       -6.49364607e-04, -1.17169635e-03,  1.07763553e-05,  8.75554222e-04,\n",
            "       -1.07091805e-03,  9.75284784e-05, -1.62716652e-03, -1.25068519e-03,\n",
            "        2.21658382e-03,  8.95523932e-04, -5.90118929e-04,  7.35550886e-04,\n",
            "       -1.53736176e-03, -1.06111448e-03,  6.29408052e-04,  7.24883634e-04,\n",
            "        8.19462235e-04, -5.79414307e-04,  6.94015471e-04,  7.89344951e-04,\n",
            "       -2.66387360e-04, -3.85194609e-04,  1.90899218e-03,  1.09471777e-03,\n",
            "        6.10683346e-04,  9.22914827e-04,  1.00167084e-03, -7.43455719e-04,\n",
            "        6.22827793e-06, -2.22134258e-04, -1.67627819e-03,  7.94408144e-04,\n",
            "       -1.94801111e-03, -3.91854934e-04, -1.58092938e-03, -2.48281402e-04,\n",
            "       -1.32115369e-04, -6.39961218e-05,  9.84303479e-05, -1.04074890e-04,\n",
            "       -9.92374960e-04, -8.69148294e-04, -8.37201951e-04, -1.68010942e-04,\n",
            "       -2.37286137e-03,  1.54343958e-03, -5.47951902e-04,  3.93412018e-04,\n",
            "        8.32657621e-04,  1.98403164e-03,  1.06066320e-04,  2.06042267e-03,\n",
            "       -5.26931079e-04,  2.61982059e-04, -1.16900774e-03,  7.41452910e-04,\n",
            "        3.22168307e-05,  7.25313905e-04, -7.50655716e-04, -1.62852957e-04,\n",
            "       -4.40029136e-04, -4.65500692e-04,  1.63782726e-03, -2.37515662e-04,\n",
            "        4.15039656e-04,  1.32219895e-04,  3.59702040e-04,  1.40713539e-03,\n",
            "       -1.55267736e-03, -3.57379933e-04, -5.13133593e-04, -7.61337753e-04,\n",
            "        8.56809493e-04,  1.96237513e-03,  1.27797748e-03, -1.01908205e-04,\n",
            "        4.95319779e-04,  1.03960722e-03, -4.73584980e-04,  1.57882588e-03,\n",
            "       -4.29132051e-04, -4.29036736e-04, -4.84614429e-04, -2.67518568e-04,\n",
            "       -9.99529380e-04, -9.24985565e-04, -1.09493977e-03,  8.24855349e-04,\n",
            "       -9.97686293e-04, -4.29626089e-04,  1.27936597e-03, -2.18709582e-04],\n",
            "      dtype=float32)]\n"
          ]
        },
        {
          "output_type": "stream",
          "name": "stderr",
          "text": [
            "/usr/local/lib/python3.7/dist-packages/ipykernel_launcher.py:8: DeprecationWarning: Call to deprecated `__getitem__` (Method will be removed in 4.0.0, use self.wv.__getitem__() instead).\n",
            "  \n",
            "/usr/local/lib/python3.7/dist-packages/ipykernel_launcher.py:10: DeprecationWarning: Call to deprecated `__getitem__` (Method will be removed in 4.0.0, use self.wv.__getitem__() instead).\n",
            "  # Remove the CWD from sys.path while we load stuff.\n"
          ]
        }
      ]
    },
    {
      "cell_type": "code",
      "source": [
        "#학습된 단어들 \n",
        "model[model.wv.vocab]"
      ],
      "metadata": {
        "colab": {
          "base_uri": "https://localhost:8080/"
        },
        "id": "bAFU1wcy6LQp",
        "outputId": "b3b7d3b7-579f-496e-c32a-8b498d836811"
      },
      "execution_count": null,
      "outputs": [
        {
          "output_type": "stream",
          "name": "stderr",
          "text": [
            "/usr/local/lib/python3.7/dist-packages/ipykernel_launcher.py:2: DeprecationWarning: Call to deprecated `__getitem__` (Method will be removed in 4.0.0, use self.wv.__getitem__() instead).\n",
            "  \n"
          ]
        },
        {
          "output_type": "execute_result",
          "data": {
            "text/plain": [
              "array([[-0.00298488, -0.00128519, -0.00301728, ..., -0.00218208,\n",
              "        -0.00054142, -0.00185534],\n",
              "       [ 0.00416208, -0.00208638,  0.00172799, ..., -0.00444552,\n",
              "         0.00340385,  0.00159922],\n",
              "       [-0.00230799,  0.00395291,  0.00193293, ..., -0.00424606,\n",
              "        -0.00174516,  0.00335915],\n",
              "       ...,\n",
              "       [-0.00087914, -0.00240731, -0.00168118, ..., -0.00030314,\n",
              "        -0.00340994, -0.00404176],\n",
              "       [-0.00105712,  0.00161719,  0.00407521, ...,  0.00179846,\n",
              "        -0.0034688 ,  0.00314918],\n",
              "       [-0.00278155,  0.00146799, -0.0030823 , ..., -0.00402959,\n",
              "        -0.00440742,  0.00471786]], dtype=float32)"
            ]
          },
          "metadata": {},
          "execution_count": 6
        }
      ]
    },
    {
      "cell_type": "code",
      "source": [
        "#단어간 유사도 평가(코싸인 유사도)\n",
        "print (model.similarity('this', 'more'))\n"
      ],
      "metadata": {
        "colab": {
          "base_uri": "https://localhost:8080/"
        },
        "id": "lLT9s8qLVEio",
        "outputId": "a30dc38f-813a-4b0f-8207-74a4e33d45dc"
      },
      "execution_count": null,
      "outputs": [
        {
          "output_type": "stream",
          "name": "stdout",
          "text": [
            "0.17969936\n"
          ]
        },
        {
          "output_type": "stream",
          "name": "stderr",
          "text": [
            "/usr/local/lib/python3.7/dist-packages/ipykernel_launcher.py:2: DeprecationWarning: Call to deprecated `similarity` (Method will be removed in 4.0.0, use self.wv.similarity() instead).\n",
            "  \n"
          ]
        }
      ]
    },
    {
      "cell_type": "code",
      "source": [
        "#유사한 단어 불러오기(the top-N most similar words)\n",
        "print(model.most_similar(positive=['machine'], negative=[], topn=5))"
      ],
      "metadata": {
        "colab": {
          "base_uri": "https://localhost:8080/"
        },
        "id": "LIQwDVg47tOe",
        "outputId": "01a91557-193e-41a3-87c0-4487f01bf72a"
      },
      "execution_count": null,
      "outputs": [
        {
          "output_type": "stream",
          "name": "stdout",
          "text": [
            "[('the', 0.14324241876602173), ('is', 0.13412363827228546), ('book', 0.07909297943115234), ('and', 0.06448584049940109), ('yesterday', 0.05565278232097626)]\n"
          ]
        },
        {
          "output_type": "stream",
          "name": "stderr",
          "text": [
            "/usr/local/lib/python3.7/dist-packages/ipykernel_launcher.py:2: DeprecationWarning: Call to deprecated `most_similar` (Method will be removed in 4.0.0, use self.wv.most_similar() instead).\n",
            "  \n"
          ]
        }
      ]
    },
    {
      "cell_type": "code",
      "source": [
        "#클러스터링\n",
        "NUM_CLUSTERS = 2\n",
        "kclusterer = KMeansClusterer(NUM_CLUSTERS, distance=nltk.cluster.util.cosine_distance, repeats=25)\n",
        "assigned_clusters = kclusterer.cluster(X, assign_clusters=True)\n",
        "print (assigned_clusters)   \n",
        "  \n",
        "for index, sentence in enumerate(sentences):    \n",
        "    print (str(assigned_clusters[index]) + \":\" + str(sentence))    \n",
        "     \n",
        "     \n",
        "kmeans = cluster.KMeans(n_clusters=NUM_CLUSTERS)\n",
        "kmeans.fit(X)"
      ],
      "metadata": {
        "colab": {
          "base_uri": "https://localhost:8080/"
        },
        "id": "GpJGkGjHVJ8M",
        "outputId": "95667072-48cb-45f2-d1ed-4b1a62a7eed1"
      },
      "execution_count": null,
      "outputs": [
        {
          "output_type": "stream",
          "name": "stdout",
          "text": [
            "[0, 0, 0, 1, 1, 1, 0, 0, 0]\n",
            "0:['this', 'is', 'the', 'one', 'good', 'machine', 'learning', 'book']\n",
            "0:['this', 'is', 'another', 'book']\n",
            "0:['one', 'more', 'book']\n",
            "1:['weather', 'rain', 'snow']\n",
            "1:['yesterday', 'weather', 'snow']\n",
            "1:['forecast', 'tomorrow', 'rain', 'snow']\n",
            "0:['this', 'is', 'the', 'new', 'post']\n",
            "0:['this', 'is', 'about', 'more', 'machine', 'learning', 'post']\n",
            "0:['and', 'this', 'is', 'the', 'one', 'last', 'post', 'book']\n"
          ]
        },
        {
          "output_type": "execute_result",
          "data": {
            "text/plain": [
              "KMeans(n_clusters=2)"
            ]
          },
          "metadata": {},
          "execution_count": 9
        }
      ]
    },
    {
      "cell_type": "code",
      "source": [
        "#클러스터링 결과\n",
        "labels = kmeans.labels_\n",
        "centroids = kmeans.cluster_centers_\n",
        "  \n",
        "print (\"Cluster id labels for inputted data\")\n",
        "print (labels)\n",
        "print (\"-----------\")\n",
        "print (\"Centroids data\")\n",
        "print (centroids)\n",
        "print (\"-----------\")  \n",
        "print (\"Score (Opposite of the value of X on the K-means objective which is Sum of distances of samples to their closest cluster center):\")\n",
        "print (kmeans.score(X))"
      ],
      "metadata": {
        "colab": {
          "base_uri": "https://localhost:8080/"
        },
        "id": "uGGwXvBWjzdt",
        "outputId": "a0970716-45b6-46a2-d680-78caba567c37"
      },
      "execution_count": null,
      "outputs": [
        {
          "output_type": "stream",
          "name": "stdout",
          "text": [
            "Cluster id labels for inputted data\n",
            "[0 0 0 1 1 1 0 0 0]\n",
            "-----------\n",
            "Centroids data\n",
            "[[ 8.25143899e-04  7.49211880e-04  4.54755626e-04  9.66598474e-04\n",
            "   9.50359908e-04  9.35498800e-04 -3.74869060e-04 -3.51164116e-04\n",
            "  -1.01414505e-03 -6.51872523e-04 -7.62606870e-04  1.27300408e-03\n",
            "  -7.01283415e-04  1.49123878e-04 -1.78678056e-03 -3.20157812e-04\n",
            "   1.94064775e-03  1.14008045e-03 -3.93957928e-04  8.52916455e-05\n",
            "  -4.19100436e-04 -2.94224117e-04  5.71989998e-04  1.94579392e-03\n",
            "   1.04608934e-03 -4.70010224e-04 -4.13823480e-04  7.96168515e-05\n",
            "  -3.97419302e-04  5.99869207e-04  3.15562817e-04  1.11895807e-03\n",
            "   7.31984280e-04  1.03162701e-03  1.69155438e-03  1.25847514e-04\n",
            "   3.73249175e-04 -1.41616392e-04 -1.98193503e-03  2.57240807e-04\n",
            "  -2.09249667e-03 -8.78910551e-04 -1.24395350e-03  3.10823792e-04\n",
            "  -6.15458302e-04  3.81570305e-04  1.12606009e-04  4.73988184e-05\n",
            "  -7.51264199e-04 -4.19704045e-04 -3.98436013e-04 -1.43950912e-04\n",
            "  -1.76378418e-03  4.85949075e-04  1.59390926e-04  3.27908918e-04\n",
            "   3.08347070e-04  2.61329264e-03 -6.66455545e-04  1.38427064e-03\n",
            "  -2.63286056e-05  8.21595910e-04 -3.85797781e-04  4.80473832e-04\n",
            "   7.98587448e-04  7.85197589e-04 -1.42561718e-04 -6.34274475e-05\n",
            "  -8.99823543e-04  6.89339882e-04  1.16098408e-03  1.17187689e-05\n",
            "  -3.61522446e-05  7.06266299e-04  6.12365499e-04 -2.64807359e-04\n",
            "  -1.45919747e-03  2.28839713e-04  2.71775840e-04 -4.08435774e-04\n",
            "   3.94716180e-04  1.38534427e-03  6.30317384e-04  1.28387121e-04\n",
            "   9.43260140e-05  6.41799197e-04 -1.13951008e-03  4.48078984e-04\n",
            "  -2.55287838e-04 -1.71142936e-03 -2.41124469e-04 -5.17531213e-04\n",
            "  -1.03760570e-03 -1.62076940e-03 -4.42081582e-05  6.04059484e-04\n",
            "  -8.19264528e-04 -1.47918821e-03  1.16607621e-03  4.01429742e-04]\n",
            " [ 1.73997563e-03  1.51333953e-03  3.87169421e-04 -1.49825990e-03\n",
            "   1.40985945e-03 -1.86640047e-03  1.60328523e-03 -8.69816790e-04\n",
            "  -2.85633684e-04 -1.68838682e-03 -3.91706611e-04  2.75481011e-03\n",
            "   1.30789603e-03  5.57653179e-04  9.71322205e-04 -1.03380741e-03\n",
            "  -1.32719033e-03  3.39625035e-04  4.75811222e-04 -1.00188856e-03\n",
            "  -1.52489684e-03  6.13145356e-04  6.03282562e-04 -1.24422872e-04\n",
            "  -1.06933278e-03 -3.36673271e-04 -3.34681322e-04  1.01976337e-03\n",
            "   5.15606080e-04  1.01908293e-03  3.26778400e-04  1.41127431e-03\n",
            "  -1.40321567e-03 -2.29143974e-04 -2.05726167e-03  6.00736103e-04\n",
            "   8.28376559e-04 -2.46760505e-03 -4.06515707e-04  6.81033193e-04\n",
            "  -3.33313671e-04  1.39916694e-04  1.31809637e-03 -7.64878738e-04\n",
            "   8.28536678e-04  2.77986459e-04  7.86530038e-04 -1.27657540e-03\n",
            "   1.25516745e-03  1.31751742e-03 -3.04947219e-04 -2.33833474e-04\n",
            "   6.41723629e-04  4.94924529e-04  1.83300321e-03  2.92135007e-03\n",
            "  -1.62298966e-03  1.00459444e-03  2.32227234e-03  2.08855401e-03\n",
            "   8.28092549e-04 -9.78004575e-04 -8.62231905e-04 -1.54452934e-03\n",
            "  -1.39898092e-03  2.90564451e-04  1.24869686e-03 -5.68929128e-04\n",
            "  -1.92540416e-04  1.32058839e-03  1.89325312e-03 -2.12351590e-03\n",
            "  -1.98194806e-04  1.01809293e-04 -7.18111803e-04  1.68626624e-03\n",
            "   4.24645783e-04 -5.90107598e-04  3.71302779e-04 -2.11932168e-04\n",
            "   1.47001013e-03 -1.63451716e-03  5.10566363e-04 -4.62826036e-04\n",
            "   4.26578374e-04  2.30668971e-04  5.58297332e-04 -1.96484146e-03\n",
            "   1.35785796e-03 -7.97474252e-04  2.30786651e-03 -2.74812081e-03\n",
            "  -1.61799932e-04  2.20065983e-03  6.35238655e-04  2.07540795e-03\n",
            "   3.13660115e-04  5.85324053e-04  3.33967091e-03  1.43434322e-03]]\n",
            "-----------\n",
            "Score (Opposite of the value of X on the K-means objective which is Sum of distances of samples to their closest cluster center):\n",
            "-0.0007370529612066619\n"
          ]
        }
      ]
    },
    {
      "cell_type": "code",
      "source": [
        "#실루엣 점수 평가(클러스터링 평가: -1~1)\n",
        "silhouette_score = metrics.silhouette_score(X, labels, metric='euclidean')\n",
        "print (\"Silhouette_score: \")\n",
        "print (silhouette_score) "
      ],
      "metadata": {
        "colab": {
          "base_uri": "https://localhost:8080/"
        },
        "id": "UhVpKChgVAVX",
        "outputId": "86b60cce-d3f8-4b5c-ff18-ae94a852db35"
      },
      "execution_count": null,
      "outputs": [
        {
          "output_type": "stream",
          "name": "stdout",
          "text": [
            "Silhouette_score: \n",
            "0.2872368\n"
          ]
        }
      ]
    },
    {
      "cell_type": "code",
      "source": [
        "#클러스터링 시각화\n",
        "import matplotlib.pyplot as plt \n",
        "from sklearn.manifold import TSNE\n",
        " \n",
        "model = TSNE(n_components=2, random_state=0)\n",
        "np.set_printoptions(suppress=True)\n",
        " \n",
        "Y=model.fit_transform(X)\n",
        "  \n",
        "plt.scatter(Y[:, 0], Y[:, 1], c=assigned_clusters, s=290,alpha=.5)\n",
        "  \n",
        "for j in range(len(sentences)):    \n",
        "   plt.annotate(assigned_clusters[j],xy=(Y[j][0], Y[j][1]),xytext=(0,0),textcoords='offset points')\n",
        "   print (\"%s %s\" % (assigned_clusters[j],  sentences[j]))\n",
        " \n",
        "plt.show()"
      ],
      "metadata": {
        "colab": {
          "base_uri": "https://localhost:8080/",
          "height": 511
        },
        "id": "UFWWJfkiU-og",
        "outputId": "51dda8a8-1d0c-4642-cffe-6b50bdbe03ad"
      },
      "execution_count": null,
      "outputs": [
        {
          "output_type": "stream",
          "name": "stderr",
          "text": [
            "/usr/local/lib/python3.7/dist-packages/sklearn/manifold/_t_sne.py:783: FutureWarning: The default initialization in TSNE will change from 'random' to 'pca' in 1.2.\n",
            "  FutureWarning,\n",
            "/usr/local/lib/python3.7/dist-packages/sklearn/manifold/_t_sne.py:793: FutureWarning: The default learning rate in TSNE will change from 200.0 to 'auto' in 1.2.\n",
            "  FutureWarning,\n"
          ]
        },
        {
          "output_type": "stream",
          "name": "stdout",
          "text": [
            "0 ['this', 'is', 'the', 'one', 'good', 'machine', 'learning', 'book']\n",
            "0 ['this', 'is', 'another', 'book']\n",
            "0 ['one', 'more', 'book']\n",
            "1 ['weather', 'rain', 'snow']\n",
            "1 ['yesterday', 'weather', 'snow']\n",
            "1 ['forecast', 'tomorrow', 'rain', 'snow']\n",
            "0 ['this', 'is', 'the', 'new', 'post']\n",
            "0 ['this', 'is', 'about', 'more', 'machine', 'learning', 'post']\n",
            "0 ['and', 'this', 'is', 'the', 'one', 'last', 'post', 'book']\n"
          ]
        },
        {
          "output_type": "display_data",
          "data": {
            "text/plain": [
              "<Figure size 432x288 with 1 Axes>"
            ],
            "image/png": "[encoded data removed]"
          },
          "metadata": {
            "needs_background": "light"
          }
        }
      ]
    },
    {
      "cell_type": "code",
      "source": [
        ""
      ],
      "metadata": {
        "id": "buERXvR8jMi9"
      },
      "execution_count": null,
      "outputs": []
    },
    {
      "cell_type": "markdown",
      "source": [
        "#프로젝트 - 페이워크 데이터에 적용"
      ],
      "metadata": {
        "id": "4XcJamZskZ8C"
      }
    },
    {
      "cell_type": "code",
      "source": [
        "#라이브러리\n",
        "import pandas as pd\n",
        "import requests\n",
        "import numpy as np\n",
        "\n",
        "#nlp 라이브러리\n",
        "import re\n",
        "import nltk\n",
        "import spacy\n",
        "from spacy.tokenizer import Tokenizer\n",
        "from nltk.tokenize import word_tokenize\n",
        "from nltk.corpus import stopwords \n",
        "\n",
        "#w2v, kmeans 라이브러리\n",
        "from gensim.models import Word2Vec\n",
        "from nltk.cluster import KMeansClusterer  \n",
        "from sklearn import cluster\n",
        "from sklearn import metrics"
      ],
      "metadata": {
        "id": "5YL7-tQxp5KB"
      },
      "execution_count": null,
      "outputs": []
    },
    {
      "cell_type": "code",
      "source": [
        "# 견적서 파일 df로 불러오기\n",
        "df = pd.read_excel('견적서_변형.xlsx')\n",
        "df.head(3)"
      ],
      "metadata": {
        "colab": {
          "base_uri": "https://localhost:8080/",
          "height": 292
        },
        "id": "pyGcFiYckeOb",
        "outputId": "fac08284-d7b9-4234-8cb6-5064c849f84e"
      },
      "execution_count": null,
      "outputs": [
        {
          "output_type": "execute_result",
          "data": {
            "text/plain": [
              "         유저명  사업자 여부 클라이언트       총 금액        항목명           규격    수량       단가  \\\n",
              "0  Lee Jeong       1   김민찬  1500000.0    영문기사 작성          NaN     1  1000000   \n",
              "1        이정훈       0  클래스랩  1125000.0  신문사 기사 발행          NaN     5   150000   \n",
              "2      siren       1   이운형  8250000.0     김치찌개 팩  구수한맛50g*2ea  1000     2500   \n",
              "\n",
              "      분류  세부분류   메모  Unnamed: 11  Unnamed: 12 Unnamed: 13  \n",
              "0   비즈니스  문서작업  NaN          NaN          NaN         NaN  \n",
              "1   비즈니스  문서작업  NaN          NaN          NaN         NaN  \n",
              "2  건강/미용    푸드  NaN          NaN          NaN         NaN  "
            ],
            "text/html": [
              "\n",
              "  <div id=\"df-d1f3d7c3-0934-44f4-934a-550f216a4cd5\">\n",
              "    <div class=\"colab-df-container\">\n",
              "      <div>\n",
              "<style scoped>\n",
              "    .dataframe tbody tr th:only-of-type {\n",
              "        vertical-align: middle;\n",
              "    }\n",
              "\n",
              "    .dataframe tbody tr th {\n",
              "        vertical-align: top;\n",
              "    }\n",
              "\n",
              "    .dataframe thead th {\n",
              "        text-align: right;\n",
              "    }\n",
              "</style>\n",
              "<table border=\"1\" class=\"dataframe\">\n",
              "  <thead>\n",
              "    <tr style=\"text-align: right;\">\n",
              "      <th></th>\n",
              "      <th>유저명</th>\n",
              "      <th>사업자 여부</th>\n",
              "      <th>클라이언트</th>\n",
              "      <th>총 금액</th>\n",
              "      <th>항목명</th>\n",
              "      <th>규격</th>\n",
              "      <th>수량</th>\n",
              "      <th>단가</th>\n",
              "      <th>분류</th>\n",
              "      <th>세부분류</th>\n",
              "      <th>메모</th>\n",
              "      <th>Unnamed: 11</th>\n",
              "      <th>Unnamed: 12</th>\n",
              "      <th>Unnamed: 13</th>\n",
              "    </tr>\n",
              "  </thead>\n",
              "  <tbody>\n",
              "    <tr>\n",
              "      <th>0</th>\n",
              "      <td>Lee Jeong</td>\n",
              "      <td>1</td>\n",
              "      <td>김민찬</td>\n",
              "      <td>1500000.0</td>\n",
              "      <td>영문기사 작성</td>\n",
              "      <td>NaN</td>\n",
              "      <td>1</td>\n",
              "      <td>1000000</td>\n",
              "      <td>비즈니스</td>\n",
              "      <td>문서작업</td>\n",
              "      <td>NaN</td>\n",
              "      <td>NaN</td>\n",
              "      <td>NaN</td>\n",
              "      <td>NaN</td>\n",
              "    </tr>\n",
              "    <tr>\n",
              "      <th>1</th>\n",
              "      <td>이정훈</td>\n",
              "      <td>0</td>\n",
              "      <td>클래스랩</td>\n",
              "      <td>1125000.0</td>\n",
              "      <td>신문사 기사 발행</td>\n",
              "      <td>NaN</td>\n",
              "      <td>5</td>\n",
              "      <td>150000</td>\n",
              "      <td>비즈니스</td>\n",
              "      <td>문서작업</td>\n",
              "      <td>NaN</td>\n",
              "      <td>NaN</td>\n",
              "      <td>NaN</td>\n",
              "      <td>NaN</td>\n",
              "    </tr>\n",
              "    <tr>\n",
              "      <th>2</th>\n",
              "      <td>siren</td>\n",
              "      <td>1</td>\n",
              "      <td>이운형</td>\n",
              "      <td>8250000.0</td>\n",
              "      <td>김치찌개 팩</td>\n",
              "      <td>구수한맛50g*2ea</td>\n",
              "      <td>1000</td>\n",
              "      <td>2500</td>\n",
              "      <td>건강/미용</td>\n",
              "      <td>푸드</td>\n",
              "      <td>NaN</td>\n",
              "      <td>NaN</td>\n",
              "      <td>NaN</td>\n",
              "      <td>NaN</td>\n",
              "    </tr>\n",
              "  </tbody>\n",
              "</table>\n",
              "</div>\n",
              "      <button class=\"colab-df-convert\" onclick=\"convertToInteractive('df-d1f3d7c3-0934-44f4-934a-550f216a4cd5')\"\n",
              "              title=\"Convert this dataframe to an interactive table.\"\n",
              "              style=\"display:none;\">\n",
              "        \n",
              "  <svg xmlns=\"http://www.w3.org/2000/svg\" height=\"24px\"viewBox=\"0 0 24 24\"\n",
              "       width=\"24px\">\n",
              "    <path d=\"M0 0h24v24H0V0z\" fill=\"none\"/>\n",
              "    <path d=\"M18.56 5.44l.94 2.06.94-2.06 2.06-.94-2.06-.94-.94-2.06-.94 2.06-2.06.94zm-11 1L8.5 8.5l.94-2.06 2.06-.94-2.06-.94L8.5 2.5l-.94 2.06-2.06.94zm10 10l.94 2.06.94-2.06 2.06-.94-2.06-.94-.94-2.06-.94 2.06-2.06.94z\"/><path d=\"M17.41 7.96l-1.37-1.37c-.4-.4-.92-.59-1.43-.59-.52 0-1.04.2-1.43.59L10.3 9.45l-7.72 7.72c-.78.78-.78 2.05 0 2.83L4 21.41c.39.39.9.59 1.41.59.51 0 1.02-.2 1.41-.59l7.78-7.78 2.81-2.81c.8-.78.8-2.07 0-2.86zM5.41 20L4 18.59l7.72-7.72 1.47 1.35L5.41 20z\"/>\n",
              "  </svg>\n",
              "      </button>\n",
              "      \n",
              "  <style>\n",
              "    .colab-df-container {\n",
              "      display:flex;\n",
              "      flex-wrap:wrap;\n",
              "      gap: 12px;\n",
              "    }\n",
              "\n",
              "    .colab-df-convert {\n",
              "      background-color: #E8F0FE;\n",
              "      border: none;\n",
              "      border-radius: 50%;\n",
              "      cursor: pointer;\n",
              "      display: none;\n",
              "      fill: #1967D2;\n",
              "      height: 32px;\n",
              "      padding: 0 0 0 0;\n",
              "      width: 32px;\n",
              "    }\n",
              "\n",
              "    .colab-df-convert:hover {\n",
              "      background-color: #E2EBFA;\n",
              "      box-shadow: 0px 1px 2px rgba(60, 64, 67, 0.3), 0px 1px 3px 1px rgba(60, 64, 67, 0.15);\n",
              "      fill: #174EA6;\n",
              "    }\n",
              "\n",
              "    [theme=dark] .colab-df-convert {\n",
              "      background-color: #3B4455;\n",
              "      fill: #D2E3FC;\n",
              "    }\n",
              "\n",
              "    [theme=dark] .colab-df-convert:hover {\n",
              "      background-color: #434B5C;\n",
              "      box-shadow: 0px 1px 3px 1px rgba(0, 0, 0, 0.15);\n",
              "      filter: drop-shadow(0px 1px 2px rgba(0, 0, 0, 0.3));\n",
              "      fill: #FFFFFF;\n",
              "    }\n",
              "  </style>\n",
              "\n",
              "      <script>\n",
              "        const buttonEl =\n",
              "          document.querySelector('#df-d1f3d7c3-0934-44f4-934a-550f216a4cd5 button.colab-df-convert');\n",
              "        buttonEl.style.display =\n",
              "          google.colab.kernel.accessAllowed ? 'block' : 'none';\n",
              "\n",
              "        async function convertToInteractive(key) {\n",
              "          const element = document.querySelector('#df-d1f3d7c3-0934-44f4-934a-550f216a4cd5');\n",
              "          const dataTable =\n",
              "            await google.colab.kernel.invokeFunction('convertToInteractive',\n",
              "                                                     [key], {});\n",
              "          if (!dataTable) return;\n",
              "\n",
              "          const docLinkHtml = 'Like what you see? Visit the ' +\n",
              "            '<a target=\"_blank\" href=https://colab.research.google.com/notebooks/data_table.ipynb>data table notebook</a>'\n",
              "            + ' to learn more about interactive tables.';\n",
              "          element.innerHTML = '';\n",
              "          dataTable['output_type'] = 'display_data';\n",
              "          await google.colab.output.renderOutput(dataTable, element);\n",
              "          const docLink = document.createElement('div');\n",
              "          docLink.innerHTML = docLinkHtml;\n",
              "          element.appendChild(docLink);\n",
              "        }\n",
              "      </script>\n",
              "    </div>\n",
              "  </div>\n",
              "  "
            ]
          },
          "metadata": {},
          "execution_count": 14
        }
      ]
    },
    {
      "cell_type": "code",
      "source": [
        "df = df.iloc[:, :10]\n",
        "df.head(3)"
      ],
      "metadata": {
        "colab": {
          "base_uri": "https://localhost:8080/",
          "height": 143
        },
        "id": "uJ6D1l5a2vnR",
        "outputId": "6ab2847c-e27a-40bd-d6ef-ebf64278e82d"
      },
      "execution_count": null,
      "outputs": [
        {
          "output_type": "execute_result",
          "data": {
            "text/plain": [
              "         유저명  사업자 여부 클라이언트       총 금액        항목명           규격    수량       단가  \\\n",
              "0  Lee Jeong       1   김민찬  1500000.0    영문기사 작성          NaN     1  1000000   \n",
              "1        이정훈       0  클래스랩  1125000.0  신문사 기사 발행          NaN     5   150000   \n",
              "2      siren       1   이운형  8250000.0     김치찌개 팩  구수한맛50g*2ea  1000     2500   \n",
              "\n",
              "      분류  세부분류  \n",
              "0   비즈니스  문서작업  \n",
              "1   비즈니스  문서작업  \n",
              "2  건강/미용    푸드  "
            ],
            "text/html": [
              "\n",
              "  <div id=\"df-e1cfff0b-1c66-4ab3-84a8-4a9e23ed1fbb\">\n",
              "    <div class=\"colab-df-container\">\n",
              "      <div>\n",
              "<style scoped>\n",
              "    .dataframe tbody tr th:only-of-type {\n",
              "        vertical-align: middle;\n",
              "    }\n",
              "\n",
              "    .dataframe tbody tr th {\n",
              "        vertical-align: top;\n",
              "    }\n",
              "\n",
              "    .dataframe thead th {\n",
              "        text-align: right;\n",
              "    }\n",
              "</style>\n",
              "<table border=\"1\" class=\"dataframe\">\n",
              "  <thead>\n",
              "    <tr style=\"text-align: right;\">\n",
              "      <th></th>\n",
              "      <th>유저명</th>\n",
              "      <th>사업자 여부</th>\n",
              "      <th>클라이언트</th>\n",
              "      <th>총 금액</th>\n",
              "      <th>항목명</th>\n",
              "      <th>규격</th>\n",
              "      <th>수량</th>\n",
              "      <th>단가</th>\n",
              "      <th>분류</th>\n",
              "      <th>세부분류</th>\n",
              "    </tr>\n",
              "  </thead>\n",
              "  <tbody>\n",
              "    <tr>\n",
              "      <th>0</th>\n",
              "      <td>Lee Jeong</td>\n",
              "      <td>1</td>\n",
              "      <td>김민찬</td>\n",
              "      <td>1500000.0</td>\n",
              "      <td>영문기사 작성</td>\n",
              "      <td>NaN</td>\n",
              "      <td>1</td>\n",
              "      <td>1000000</td>\n",
              "      <td>비즈니스</td>\n",
              "      <td>문서작업</td>\n",
              "    </tr>\n",
              "    <tr>\n",
              "      <th>1</th>\n",
              "      <td>이정훈</td>\n",
              "      <td>0</td>\n",
              "      <td>클래스랩</td>\n",
              "      <td>1125000.0</td>\n",
              "      <td>신문사 기사 발행</td>\n",
              "      <td>NaN</td>\n",
              "      <td>5</td>\n",
              "      <td>150000</td>\n",
              "      <td>비즈니스</td>\n",
              "      <td>문서작업</td>\n",
              "    </tr>\n",
              "    <tr>\n",
              "      <th>2</th>\n",
              "      <td>siren</td>\n",
              "      <td>1</td>\n",
              "      <td>이운형</td>\n",
              "      <td>8250000.0</td>\n",
              "      <td>김치찌개 팩</td>\n",
              "      <td>구수한맛50g*2ea</td>\n",
              "      <td>1000</td>\n",
              "      <td>2500</td>\n",
              "      <td>건강/미용</td>\n",
              "      <td>푸드</td>\n",
              "    </tr>\n",
              "  </tbody>\n",
              "</table>\n",
              "</div>\n",
              "      <button class=\"colab-df-convert\" onclick=\"convertToInteractive('df-e1cfff0b-1c66-4ab3-84a8-4a9e23ed1fbb')\"\n",
              "              title=\"Convert this dataframe to an interactive table.\"\n",
              "              style=\"display:none;\">\n",
              "        \n",
              "  <svg xmlns=\"http://www.w3.org/2000/svg\" height=\"24px\"viewBox=\"0 0 24 24\"\n",
              "       width=\"24px\">\n",
              "    <path d=\"M0 0h24v24H0V0z\" fill=\"none\"/>\n",
              "    <path d=\"M18.56 5.44l.94 2.06.94-2.06 2.06-.94-2.06-.94-.94-2.06-.94 2.06-2.06.94zm-11 1L8.5 8.5l.94-2.06 2.06-.94-2.06-.94L8.5 2.5l-.94 2.06-2.06.94zm10 10l.94 2.06.94-2.06 2.06-.94-2.06-.94-.94-2.06-.94 2.06-2.06.94z\"/><path d=\"M17.41 7.96l-1.37-1.37c-.4-.4-.92-.59-1.43-.59-.52 0-1.04.2-1.43.59L10.3 9.45l-7.72 7.72c-.78.78-.78 2.05 0 2.83L4 21.41c.39.39.9.59 1.41.59.51 0 1.02-.2 1.41-.59l7.78-7.78 2.81-2.81c.8-.78.8-2.07 0-2.86zM5.41 20L4 18.59l7.72-7.72 1.47 1.35L5.41 20z\"/>\n",
              "  </svg>\n",
              "      </button>\n",
              "      \n",
              "  <style>\n",
              "    .colab-df-container {\n",
              "      display:flex;\n",
              "      flex-wrap:wrap;\n",
              "      gap: 12px;\n",
              "    }\n",
              "\n",
              "    .colab-df-convert {\n",
              "      background-color: #E8F0FE;\n",
              "      border: none;\n",
              "      border-radius: 50%;\n",
              "      cursor: pointer;\n",
              "      display: none;\n",
              "      fill: #1967D2;\n",
              "      height: 32px;\n",
              "      padding: 0 0 0 0;\n",
              "      width: 32px;\n",
              "    }\n",
              "\n",
              "    .colab-df-convert:hover {\n",
              "      background-color: #E2EBFA;\n",
              "      box-shadow: 0px 1px 2px rgba(60, 64, 67, 0.3), 0px 1px 3px 1px rgba(60, 64, 67, 0.15);\n",
              "      fill: #174EA6;\n",
              "    }\n",
              "\n",
              "    [theme=dark] .colab-df-convert {\n",
              "      background-color: #3B4455;\n",
              "      fill: #D2E3FC;\n",
              "    }\n",
              "\n",
              "    [theme=dark] .colab-df-convert:hover {\n",
              "      background-color: #434B5C;\n",
              "      box-shadow: 0px 1px 3px 1px rgba(0, 0, 0, 0.15);\n",
              "      filter: drop-shadow(0px 1px 2px rgba(0, 0, 0, 0.3));\n",
              "      fill: #FFFFFF;\n",
              "    }\n",
              "  </style>\n",
              "\n",
              "      <script>\n",
              "        const buttonEl =\n",
              "          document.querySelector('#df-e1cfff0b-1c66-4ab3-84a8-4a9e23ed1fbb button.colab-df-convert');\n",
              "        buttonEl.style.display =\n",
              "          google.colab.kernel.accessAllowed ? 'block' : 'none';\n",
              "\n",
              "        async function convertToInteractive(key) {\n",
              "          const element = document.querySelector('#df-e1cfff0b-1c66-4ab3-84a8-4a9e23ed1fbb');\n",
              "          const dataTable =\n",
              "            await google.colab.kernel.invokeFunction('convertToInteractive',\n",
              "                                                     [key], {});\n",
              "          if (!dataTable) return;\n",
              "\n",
              "          const docLinkHtml = 'Like what you see? Visit the ' +\n",
              "            '<a target=\"_blank\" href=https://colab.research.google.com/notebooks/data_table.ipynb>data table notebook</a>'\n",
              "            + ' to learn more about interactive tables.';\n",
              "          element.innerHTML = '';\n",
              "          dataTable['output_type'] = 'display_data';\n",
              "          await google.colab.output.renderOutput(dataTable, element);\n",
              "          const docLink = document.createElement('div');\n",
              "          docLink.innerHTML = docLinkHtml;\n",
              "          element.appendChild(docLink);\n",
              "        }\n",
              "      </script>\n",
              "    </div>\n",
              "  </div>\n",
              "  "
            ]
          },
          "metadata": {},
          "execution_count": 15
        }
      ]
    },
    {
      "cell_type": "code",
      "source": [
        "#테스트 행 삭제\n",
        "df = df[df[\"분류\"].str.contains('테스트') == False]"
      ],
      "metadata": {
        "id": "UxlJgC4vz6R_"
      },
      "execution_count": null,
      "outputs": []
    },
    {
      "cell_type": "code",
      "source": [
        "#함수-특수기호, 공백제거\n",
        "def clean_text(texts):\n",
        "  #remove punctuation \n",
        "  new_text = re.sub(r'[@%\\\\*=()/~#&\\+á?\\xc3\\xa1\\-\\|\\.\\:\\;\\!\\-\\,\\_\\~\\$\\'\\\"]', '',str(texts))\n",
        "\n",
        "  #remove number\n",
        "  new_text = re.sub(r'\\d+','', str(new_text))\n",
        "  #remove extra space\n",
        "  new_text = re.sub(r'\\s+', ' ',new_text) \n",
        "  #remove spaces\n",
        "  new_text = re.sub(r'\\s+', ' ', new_text) \n",
        "  #remove space from start\n",
        "  new_text = re.sub(r\"^\\s+\", '', new_text) \n",
        "  #remove space from the end  \n",
        "  new_text = re.sub(r'\\s+$', '', new_text) \n",
        "  #lower case \n",
        "  new_text = new_text.lower() \n",
        "  #remove Html tags \n",
        "  #new_text = re.sub(r'<[^>]+>', '', new_text) \n",
        "  return new_text"
      ],
      "metadata": {
        "id": "kXB-P1qaz87A"
      },
      "execution_count": null,
      "outputs": []
    },
    {
      "cell_type": "code",
      "source": [
        "#데이터 클리닝\n",
        "df['clean_text'] = df['항목명'].apply(clean_text)"
      ],
      "metadata": {
        "id": "vmAz5uHt2R7C"
      },
      "execution_count": null,
      "outputs": []
    },
    {
      "cell_type": "code",
      "source": [
        "#라이브러리 설치 및 import\n",
        "!pip install git+https://github.com/haven-jeon/PyKoSpacing.git\n",
        "!pip install git+https://github.com/ssut/py-hanspell.git\n",
        "from pykospacing import Spacing\n",
        "from hanspell import spell_checker"
      ],
      "metadata": {
        "id": "mdZI0iqL0315",
        "colab": {
          "base_uri": "https://localhost:8080/",
          "height": 1000
        },
        "outputId": "94970191-f46a-4127-de84-dc68d5730662"
      },
      "execution_count": null,
      "outputs": [
        {
          "output_type": "stream",
          "name": "stdout",
          "text": [
            "Looking in indexes: https://pypi.org/simple, https://us-python.pkg.dev/colab-wheels/public/simple/\n",
            "Collecting git+https://github.com/haven-jeon/PyKoSpacing.git\n",
            "  Cloning https://github.com/haven-jeon/PyKoSpacing.git to /tmp/pip-req-build-hrhhypzp\n",
            "  Running command git clone -q https://github.com/haven-jeon/PyKoSpacing.git /tmp/pip-req-build-hrhhypzp\n",
            "Requirement already satisfied: tensorflow==2.7.2 in /usr/local/lib/python3.7/dist-packages (from pykospacing==0.5) (2.7.2+zzzcolab20220516114640)\n",
            "Requirement already satisfied: h5py==3.1.0 in /usr/local/lib/python3.7/dist-packages (from pykospacing==0.5) (3.1.0)\n",
            "Collecting argparse>=1.4.0\n",
            "  Using cached argparse-1.4.0-py2.py3-none-any.whl (23 kB)\n",
            "Requirement already satisfied: numpy>=1.14.5 in /usr/local/lib/python3.7/dist-packages (from h5py==3.1.0->pykospacing==0.5) (1.21.6)\n",
            "Requirement already satisfied: cached-property in /usr/local/lib/python3.7/dist-packages (from h5py==3.1.0->pykospacing==0.5) (1.5.2)\n",
            "Requirement already satisfied: keras-preprocessing>=1.1.1 in /usr/local/lib/python3.7/dist-packages (from tensorflow==2.7.2->pykospacing==0.5) (1.1.2)\n",
            "Requirement already satisfied: six>=1.12.0 in /usr/local/lib/python3.7/dist-packages (from tensorflow==2.7.2->pykospacing==0.5) (1.15.0)\n",
            "Requirement already satisfied: termcolor>=1.1.0 in /usr/local/lib/python3.7/dist-packages (from tensorflow==2.7.2->pykospacing==0.5) (1.1.0)\n",
            "Requirement already satisfied: absl-py>=0.4.0 in /usr/local/lib/python3.7/dist-packages (from tensorflow==2.7.2->pykospacing==0.5) (1.2.0)\n",
            "Requirement already satisfied: astunparse>=1.6.0 in /usr/local/lib/python3.7/dist-packages (from tensorflow==2.7.2->pykospacing==0.5) (1.6.3)\n",
            "Requirement already satisfied: google-pasta>=0.1.1 in /usr/local/lib/python3.7/dist-packages (from tensorflow==2.7.2->pykospacing==0.5) (0.2.0)\n",
            "Requirement already satisfied: tensorflow-estimator<2.8,~=2.7.0rc0 in /usr/local/lib/python3.7/dist-packages (from tensorflow==2.7.2->pykospacing==0.5) (2.7.0)\n",
            "Requirement already satisfied: flatbuffers<3.0,>=1.12 in /usr/local/lib/python3.7/dist-packages (from tensorflow==2.7.2->pykospacing==0.5) (2.0)\n",
            "Requirement already satisfied: tensorboard~=2.6 in /usr/local/lib/python3.7/dist-packages (from tensorflow==2.7.2->pykospacing==0.5) (2.8.0)\n",
            "Requirement already satisfied: wheel<1.0,>=0.32.0 in /usr/local/lib/python3.7/dist-packages (from tensorflow==2.7.2->pykospacing==0.5) (0.37.1)\n",
            "Requirement already satisfied: libclang>=9.0.1 in /usr/local/lib/python3.7/dist-packages (from tensorflow==2.7.2->pykospacing==0.5) (14.0.6)\n",
            "Requirement already satisfied: protobuf>=3.9.2 in /usr/local/lib/python3.7/dist-packages (from tensorflow==2.7.2->pykospacing==0.5) (3.17.3)\n",
            "Requirement already satisfied: grpcio<2.0,>=1.24.3 in /usr/local/lib/python3.7/dist-packages (from tensorflow==2.7.2->pykospacing==0.5) (1.47.0)\n",
            "Requirement already satisfied: typing-extensions>=3.6.6 in /usr/local/lib/python3.7/dist-packages (from tensorflow==2.7.2->pykospacing==0.5) (4.1.1)\n",
            "Requirement already satisfied: wrapt>=1.11.0 in /usr/local/lib/python3.7/dist-packages (from tensorflow==2.7.2->pykospacing==0.5) (1.14.1)\n",
            "Requirement already satisfied: gast<0.5.0,>=0.2.1 in /usr/local/lib/python3.7/dist-packages (from tensorflow==2.7.2->pykospacing==0.5) (0.4.0)\n",
            "Requirement already satisfied: opt-einsum>=2.3.2 in /usr/local/lib/python3.7/dist-packages (from tensorflow==2.7.2->pykospacing==0.5) (3.3.0)\n",
            "Requirement already satisfied: tensorflow-io-gcs-filesystem>=0.21.0 in /usr/local/lib/python3.7/dist-packages (from tensorflow==2.7.2->pykospacing==0.5) (0.26.0)\n",
            "Requirement already satisfied: keras<2.8,>=2.7.0rc0 in /usr/local/lib/python3.7/dist-packages (from tensorflow==2.7.2->pykospacing==0.5) (2.7.0)\n",
            "Requirement already satisfied: tensorboard-plugin-wit>=1.6.0 in /usr/local/lib/python3.7/dist-packages (from tensorboard~=2.6->tensorflow==2.7.2->pykospacing==0.5) (1.8.1)\n",
            "Requirement already satisfied: markdown>=2.6.8 in /usr/local/lib/python3.7/dist-packages (from tensorboard~=2.6->tensorflow==2.7.2->pykospacing==0.5) (3.4.1)\n",
            "Requirement already satisfied: google-auth<3,>=1.6.3 in /usr/local/lib/python3.7/dist-packages (from tensorboard~=2.6->tensorflow==2.7.2->pykospacing==0.5) (1.35.0)\n",
            "Requirement already satisfied: werkzeug>=0.11.15 in /usr/local/lib/python3.7/dist-packages (from tensorboard~=2.6->tensorflow==2.7.2->pykospacing==0.5) (1.0.1)\n",
            "Requirement already satisfied: requests<3,>=2.21.0 in /usr/local/lib/python3.7/dist-packages (from tensorboard~=2.6->tensorflow==2.7.2->pykospacing==0.5) (2.23.0)\n",
            "Requirement already satisfied: tensorboard-data-server<0.7.0,>=0.6.0 in /usr/local/lib/python3.7/dist-packages (from tensorboard~=2.6->tensorflow==2.7.2->pykospacing==0.5) (0.6.1)\n",
            "Requirement already satisfied: setuptools>=41.0.0 in /usr/local/lib/python3.7/dist-packages (from tensorboard~=2.6->tensorflow==2.7.2->pykospacing==0.5) (57.4.0)\n",
            "Requirement already satisfied: google-auth-oauthlib<0.5,>=0.4.1 in /usr/local/lib/python3.7/dist-packages (from tensorboard~=2.6->tensorflow==2.7.2->pykospacing==0.5) (0.4.6)\n",
            "Requirement already satisfied: rsa<5,>=3.1.4 in /usr/local/lib/python3.7/dist-packages (from google-auth<3,>=1.6.3->tensorboard~=2.6->tensorflow==2.7.2->pykospacing==0.5) (4.9)\n",
            "Requirement already satisfied: pyasn1-modules>=0.2.1 in /usr/local/lib/python3.7/dist-packages (from google-auth<3,>=1.6.3->tensorboard~=2.6->tensorflow==2.7.2->pykospacing==0.5) (0.2.8)\n",
            "Requirement already satisfied: cachetools<5.0,>=2.0.0 in /usr/local/lib/python3.7/dist-packages (from google-auth<3,>=1.6.3->tensorboard~=2.6->tensorflow==2.7.2->pykospacing==0.5) (4.2.4)\n",
            "Requirement already satisfied: requests-oauthlib>=0.7.0 in /usr/local/lib/python3.7/dist-packages (from google-auth-oauthlib<0.5,>=0.4.1->tensorboard~=2.6->tensorflow==2.7.2->pykospacing==0.5) (1.3.1)\n",
            "Requirement already satisfied: importlib-metadata>=4.4 in /usr/local/lib/python3.7/dist-packages (from markdown>=2.6.8->tensorboard~=2.6->tensorflow==2.7.2->pykospacing==0.5) (4.12.0)\n",
            "Requirement already satisfied: zipp>=0.5 in /usr/local/lib/python3.7/dist-packages (from importlib-metadata>=4.4->markdown>=2.6.8->tensorboard~=2.6->tensorflow==2.7.2->pykospacing==0.5) (3.8.1)\n",
            "Requirement already satisfied: pyasn1<0.5.0,>=0.4.6 in /usr/local/lib/python3.7/dist-packages (from pyasn1-modules>=0.2.1->google-auth<3,>=1.6.3->tensorboard~=2.6->tensorflow==2.7.2->pykospacing==0.5) (0.4.8)\n",
            "Requirement already satisfied: certifi>=2017.4.17 in /usr/local/lib/python3.7/dist-packages (from requests<3,>=2.21.0->tensorboard~=2.6->tensorflow==2.7.2->pykospacing==0.5) (2022.6.15)\n",
            "Requirement already satisfied: urllib3!=1.25.0,!=1.25.1,<1.26,>=1.21.1 in /usr/local/lib/python3.7/dist-packages (from requests<3,>=2.21.0->tensorboard~=2.6->tensorflow==2.7.2->pykospacing==0.5) (1.24.3)\n",
            "Requirement already satisfied: idna<3,>=2.5 in /usr/local/lib/python3.7/dist-packages (from requests<3,>=2.21.0->tensorboard~=2.6->tensorflow==2.7.2->pykospacing==0.5) (2.10)\n",
            "Requirement already satisfied: chardet<4,>=3.0.2 in /usr/local/lib/python3.7/dist-packages (from requests<3,>=2.21.0->tensorboard~=2.6->tensorflow==2.7.2->pykospacing==0.5) (3.0.4)\n",
            "Requirement already satisfied: oauthlib>=3.0.0 in /usr/local/lib/python3.7/dist-packages (from requests-oauthlib>=0.7.0->google-auth-oauthlib<0.5,>=0.4.1->tensorboard~=2.6->tensorflow==2.7.2->pykospacing==0.5) (3.2.0)\n",
            "Installing collected packages: argparse\n",
            "Successfully installed argparse-1.4.0\n"
          ]
        },
        {
          "output_type": "display_data",
          "data": {
            "application/vnd.colab-display-data+json": {
              "pip_warning": {
                "packages": [
                  "argparse"
                ]
              }
            }
          },
          "metadata": {}
        },
        {
          "output_type": "stream",
          "name": "stdout",
          "text": [
            "Looking in indexes: https://pypi.org/simple, https://us-python.pkg.dev/colab-wheels/public/simple/\n",
            "Collecting git+https://github.com/ssut/py-hanspell.git\n",
            "  Cloning https://github.com/ssut/py-hanspell.git to /tmp/pip-req-build-8y3q57ig\n",
            "  Running command git clone -q https://github.com/ssut/py-hanspell.git /tmp/pip-req-build-8y3q57ig\n",
            "Requirement already satisfied: requests in /usr/local/lib/python3.7/dist-packages (from py-hanspell==1.1) (2.23.0)\n",
            "Requirement already satisfied: idna<3,>=2.5 in /usr/local/lib/python3.7/dist-packages (from requests->py-hanspell==1.1) (2.10)\n",
            "Requirement already satisfied: urllib3!=1.25.0,!=1.25.1,<1.26,>=1.21.1 in /usr/local/lib/python3.7/dist-packages (from requests->py-hanspell==1.1) (1.24.3)\n",
            "Requirement already satisfied: chardet<4,>=3.0.2 in /usr/local/lib/python3.7/dist-packages (from requests->py-hanspell==1.1) (3.0.4)\n",
            "Requirement already satisfied: certifi>=2017.4.17 in /usr/local/lib/python3.7/dist-packages (from requests->py-hanspell==1.1) (2022.6.15)\n"
          ]
        }
      ]
    },
    {
      "cell_type": "code",
      "source": [
        "#함수 - hanspell 맞춤법 수정 \n",
        "def han_spell_check(x):\n",
        "  x = x.strip()\n",
        "  res = spell_checker.check(x)\n",
        "  result = res.checked\n",
        "  return result"
      ],
      "metadata": {
        "id": "BhRNy7Tr2ZT5"
      },
      "execution_count": null,
      "outputs": []
    },
    {
      "cell_type": "code",
      "source": [
        "#hanspell 적용\n",
        "df['clen_text_hansp'] = df['clean_text'].apply(han_spell_check)"
      ],
      "metadata": {
        "id": "-cqubb1f117s"
      },
      "execution_count": null,
      "outputs": []
    },
    {
      "cell_type": "code",
      "source": [
        "#pykospacing 모델설정\n",
        "spacing = Spacing()"
      ],
      "metadata": {
        "id": "OM_tb6o61DyK"
      },
      "execution_count": null,
      "outputs": []
    },
    {
      "cell_type": "code",
      "source": [
        "#pykospacing 적용\n",
        "df['clean_text_pyko'] = df['clen_text_hansp'].apply(spacing)"
      ],
      "metadata": {
        "id": "lYTf4bqpJjaY"
      },
      "execution_count": null,
      "outputs": []
    },
    {
      "cell_type": "code",
      "source": [
        "#W2V 모델 정의\n",
        "model = Word2Vec(sentences, min_count=1)\n",
        "   \n",
        "def sent_vectorizer(sent, model):\n",
        "    sent_vec =[]\n",
        "    numw = 0\n",
        "    for w in sent:\n",
        "        try:\n",
        "            if numw == 0:\n",
        "                sent_vec = model[w]\n",
        "            else:\n",
        "                sent_vec = np.add(sent_vec, model[w])\n",
        "            numw+=1\n",
        "        except:\n",
        "            pass\n",
        "     \n",
        "    return np.asarray(sent_vec) / numw"
      ],
      "metadata": {
        "id": "u3o6uLKMqAIU",
        "colab": {
          "base_uri": "https://localhost:8080/"
        },
        "outputId": "ac21af36-8460-40ec-ee87-ce6efe8f87d8"
      },
      "execution_count": null,
      "outputs": [
        {
          "output_type": "stream",
          "name": "stderr",
          "text": [
            "WARNING:gensim.models.base_any2vec:under 10 jobs per worker: consider setting a smaller `batch_words' for smoother alpha decay\n"
          ]
        }
      ]
    },
    {
      "cell_type": "code",
      "source": [
        "sentences = df[\"clean_text_pyko\"]"
      ],
      "metadata": {
        "id": "TowALsUGrgue"
      },
      "execution_count": null,
      "outputs": []
    },
    {
      "cell_type": "code",
      "source": [
        "#학습\n",
        "X=[]\n",
        "for sentence in sentences:\n",
        "    X.append(sent_vectorizer(sentence, model))   \n",
        " \n",
        "print (\"========================\")\n",
        "print (X)"
      ],
      "metadata": {
        "id": "FbtCw2gMrbWN",
        "colab": {
          "base_uri": "https://localhost:8080/"
        },
        "outputId": "bc4feb6a-db11-4718-8362-d06c9920c042"
      },
      "execution_count": null,
      "outputs": [
        {
          "output_type": "stream",
          "name": "stdout",
          "text": [
            "========================\n",
            "[array([], dtype=float64), array([], dtype=float64), array([], dtype=float64), array([], dtype=float64), array([], dtype=float64), array([], dtype=float64), array([], dtype=float64), array([], dtype=float64), array([], dtype=float64), array([], dtype=float64), array([], dtype=float64), array([], dtype=float64), array([], dtype=float64), array([], dtype=float64), array([], dtype=float64), array([], dtype=float64), array([], dtype=float64), array([], dtype=float64), array([], dtype=float64), array([], dtype=float64), array([], dtype=float64), array([], dtype=float64), array([], dtype=float64), array([], dtype=float64), array([], dtype=float64), array([], dtype=float64), array([], dtype=float64), array([], dtype=float64), array([], dtype=float64), array([], dtype=float64), array([], dtype=float64), array([], dtype=float64), array([], dtype=float64), array([], dtype=float64), array([], dtype=float64), array([], dtype=float64), array([], dtype=float64), array([], dtype=float64), array([], dtype=float64), array([], dtype=float64), array([], dtype=float64), array([], dtype=float64), array([], dtype=float64), array([], dtype=float64), array([], dtype=float64), array([], dtype=float64), array([], dtype=float64), array([], dtype=float64), array([], dtype=float64), array([], dtype=float64), array([], dtype=float64), array([], dtype=float64), array([], dtype=float64), array([], dtype=float64), array([], dtype=float64), array([], dtype=float64), array([], dtype=float64), array([], dtype=float64), array([], dtype=float64), array([], dtype=float64), array([], dtype=float64), array([], dtype=float64), array([], dtype=float64), array([], dtype=float64), array([], dtype=float64), array([], dtype=float64), array([], dtype=float64), array([], dtype=float64), array([], dtype=float64), array([], dtype=float64), array([], dtype=float64), array([], dtype=float64), array([], dtype=float64), array([], dtype=float64), array([], dtype=float64), array([], dtype=float64), array([], dtype=float64), array([], dtype=float64), array([], dtype=float64), array([], dtype=float64), array([], dtype=float64), array([], dtype=float64), array([], dtype=float64), array([], dtype=float64), array([], dtype=float64), array([], dtype=float64), array([], dtype=float64), array([], dtype=float64), array([], dtype=float64), array([], dtype=float64), array([], dtype=float64), array([], dtype=float64), array([], dtype=float64), array([], dtype=float64), array([], dtype=float64), array([], dtype=float64), array([], dtype=float64), array([], dtype=float64), array([], dtype=float64), array([], dtype=float64), array([], dtype=float64), array([], dtype=float64), array([], dtype=float64), array([], dtype=float64), array([], dtype=float64), array([], dtype=float64), array([], dtype=float64), array([], dtype=float64), array([], dtype=float64), array([], dtype=float64), array([], dtype=float64), array([], dtype=float64), array([], dtype=float64), array([], dtype=float64), array([], dtype=float64), array([], dtype=float64), array([], dtype=float64), array([], dtype=float64), array([], dtype=float64), array([], dtype=float64), array([], dtype=float64), array([], dtype=float64), array([], dtype=float64), array([], dtype=float64), array([], dtype=float64), array([], dtype=float64), array([], dtype=float64), array([], dtype=float64), array([], dtype=float64), array([], dtype=float64), array([], dtype=float64), array([], dtype=float64), array([], dtype=float64), array([], dtype=float64), array([], dtype=float64), array([], dtype=float64), array([], dtype=float64), array([], dtype=float64), array([], dtype=float64), array([], dtype=float64), array([], dtype=float64), array([], dtype=float64), array([], dtype=float64), array([], dtype=float64), array([], dtype=float64), array([], dtype=float64), array([], dtype=float64), array([], dtype=float64), array([], dtype=float64), array([], dtype=float64), array([], dtype=float64), array([], dtype=float64), array([], dtype=float64), array([], dtype=float64), array([], dtype=float64), array([], dtype=float64), array([], dtype=float64), array([], dtype=float64), array([], dtype=float64), array([], dtype=float64), array([], dtype=float64), array([], dtype=float64), array([], dtype=float64), array([], dtype=float64), array([], dtype=float64), array([], dtype=float64), array([], dtype=float64), array([], dtype=float64), array([], dtype=float64), array([], dtype=float64), array([], dtype=float64), array([], dtype=float64), array([], dtype=float64), array([], dtype=float64), array([], dtype=float64), array([], dtype=float64), array([], dtype=float64), array([], dtype=float64), array([], dtype=float64), array([], dtype=float64), array([], dtype=float64), array([], dtype=float64), array([], dtype=float64), array([], dtype=float64), array([], dtype=float64), array([], dtype=float64), array([], dtype=float64), array([], dtype=float64), array([], dtype=float64), array([], dtype=float64), array([], dtype=float64), array([], dtype=float64), array([], dtype=float64), array([], dtype=float64), array([], dtype=float64), array([], dtype=float64), array([], dtype=float64), array([], dtype=float64), array([], dtype=float64), array([], dtype=float64), array([], dtype=float64), array([], dtype=float64), array([], dtype=float64), array([], dtype=float64), array([], dtype=float64), array([], dtype=float64), array([], dtype=float64), array([], dtype=float64), array([], dtype=float64), array([], dtype=float64), array([], dtype=float64), array([], dtype=float64), array([], dtype=float64), array([], dtype=float64), array([], dtype=float64), array([], dtype=float64), array([], dtype=float64), array([], dtype=float64), array([], dtype=float64), array([], dtype=float64), array([], dtype=float64), array([], dtype=float64), array([], dtype=float64), array([], dtype=float64), array([], dtype=float64), array([], dtype=float64), array([], dtype=float64), array([], dtype=float64), array([], dtype=float64), array([], dtype=float64), array([], dtype=float64), array([], dtype=float64), array([], dtype=float64), array([], dtype=float64), array([], dtype=float64), array([], dtype=float64), array([], dtype=float64), array([], dtype=float64), array([], dtype=float64), array([], dtype=float64), array([], dtype=float64), array([], dtype=float64), array([], dtype=float64), array([], dtype=float64), array([], dtype=float64), array([], dtype=float64), array([], dtype=float64), array([], dtype=float64), array([], dtype=float64), array([], dtype=float64), array([], dtype=float64), array([], dtype=float64), array([], dtype=float64), array([], dtype=float64), array([], dtype=float64), array([], dtype=float64), array([], dtype=float64), array([], dtype=float64), array([], dtype=float64), array([], dtype=float64), array([], dtype=float64), array([], dtype=float64), array([], dtype=float64), array([], dtype=float64), array([], dtype=float64), array([], dtype=float64), array([], dtype=float64), array([], dtype=float64), array([], dtype=float64), array([], dtype=float64), array([], dtype=float64), array([], dtype=float64), array([], dtype=float64), array([], dtype=float64), array([], dtype=float64), array([], dtype=float64), array([], dtype=float64), array([], dtype=float64), array([], dtype=float64), array([], dtype=float64), array([], dtype=float64), array([], dtype=float64), array([], dtype=float64), array([], dtype=float64), array([], dtype=float64), array([], dtype=float64), array([], dtype=float64), array([], dtype=float64), array([], dtype=float64), array([], dtype=float64), array([], dtype=float64), array([], dtype=float64), array([], dtype=float64), array([], dtype=float64), array([], dtype=float64), array([], dtype=float64), array([], dtype=float64), array([], dtype=float64), array([], dtype=float64), array([], dtype=float64), array([], dtype=float64), array([], dtype=float64), array([], dtype=float64), array([], dtype=float64), array([], dtype=float64), array([], dtype=float64), array([], dtype=float64), array([], dtype=float64), array([], dtype=float64), array([], dtype=float64), array([], dtype=float64), array([], dtype=float64), array([], dtype=float64), array([], dtype=float64), array([], dtype=float64), array([], dtype=float64), array([], dtype=float64), array([], dtype=float64), array([], dtype=float64), array([], dtype=float64), array([], dtype=float64), array([], dtype=float64), array([], dtype=float64), array([], dtype=float64), array([], dtype=float64), array([], dtype=float64), array([], dtype=float64), array([], dtype=float64), array([], dtype=float64), array([], dtype=float64), array([], dtype=float64), array([], dtype=float64)]\n"
          ]
        },
        {
          "output_type": "stream",
          "name": "stderr",
          "text": [
            "/usr/local/lib/python3.7/dist-packages/ipykernel_launcher.py:10: DeprecationWarning: Call to deprecated `__getitem__` (Method will be removed in 4.0.0, use self.wv.__getitem__() instead).\n",
            "  # Remove the CWD from sys.path while we load stuff.\n"
          ]
        }
      ]
    },
    {
      "cell_type": "code",
      "source": [
        "import os\n",
        "os.environ['TF_FORCE_GPU_ALLOW_GROWTH'] = 'true'"
      ],
      "metadata": {
        "id": "_XSrbdaOrDMO"
      },
      "execution_count": null,
      "outputs": []
    },
    {
      "cell_type": "code",
      "source": [
        "#클러스터링\n",
        "NUM_CLUSTERS = 6\n",
        "kclusterer = KMeansClusterer(NUM_CLUSTERS, distance=nltk.cluster.util.cosine_distance, repeats=25, avoid_empty_clusters=True)\n",
        "assigned_clusters = kclusterer.cluster(X, assign_clusters=True)\n",
        "print (assigned_clusters)   \n",
        "  \n",
        "for index, sentence in enumerate(sentences):    \n",
        "    print (str(assigned_clusters[index]) + \":\" + str(sentence))     \n",
        "     \n",
        "kmeans = cluster.KMeans(n_clusters=NUM_CLUSTERS)\n",
        "kmeans.fit(X)"
      ],
      "metadata": {
        "id": "5ZnAKkKBr1Oc"
      },
      "execution_count": null,
      "outputs": []
    },
    {
      "cell_type": "code",
      "source": [
        "#클러스터링 결과\n",
        "labels = kmeans.labels_\n",
        "centroids = kmeans.cluster_centers_\n",
        "  \n",
        "print (\"Cluster id labels for inputted data\")\n",
        "print (labels)\n",
        "print (\"-----------\")\n",
        "print (\"Centroids data\")\n",
        "print (centroids)\n",
        "print (\"-----------\")  \n",
        "print (\"Score (Opposite of the value of X on the K-means objective which is Sum of distances of samples to their closest cluster center):\")\n",
        "print (kmeans.score(X))"
      ],
      "metadata": {
        "id": "O_IvGXezr1Od"
      },
      "execution_count": null,
      "outputs": []
    },
    {
      "cell_type": "code",
      "source": [
        "#평가\n",
        "silhouette_score = metrics.silhouette_score(X, labels, metric='euclidean')\n",
        "print (\"Silhouette_score: \")\n",
        "print (silhouette_score) "
      ],
      "metadata": {
        "id": "e78UAWNIr1Of"
      },
      "execution_count": null,
      "outputs": []
    },
    {
      "cell_type": "code",
      "source": [
        "#클러스터링 시각화\n",
        "import matplotlib.pyplot as plt \n",
        "from sklearn.manifold import TSNE\n",
        " \n",
        "model = TSNE(n_components=2, random_state=0)\n",
        "np.set_printoptions(suppress=True)\n",
        " \n",
        "Y=model.fit_transform(X)\n",
        "  \n",
        "plt.scatter(Y[:, 0], Y[:, 1], c=assigned_clusters, s=290,alpha=.5)\n",
        "  \n",
        "for j in range(len(sentences)):    \n",
        "   plt.annotate(assigned_clusters[j],xy=(Y[j][0], Y[j][1]),xytext=(0,0),textcoords='offset points')\n",
        "   print (\"%s %s\" % (assigned_clusters[j],  sentences[j]))\n",
        " \n",
        "plt.show()"
      ],
      "metadata": {
        "id": "85xC3jhDr1Og"
      },
      "execution_count": null,
      "outputs": []
    },
    {
      "cell_type": "code",
      "source": [
        "#기존 NLP df에 열로 추가\n",
        "df['cluster_num'] = assigned_clusters\n",
        "df"
      ],
      "metadata": {
        "id": "GZ3MaFd8tEse"
      },
      "execution_count": null,
      "outputs": []
    },
    {
      "cell_type": "code",
      "source": [
        "#파일 내보내기\n",
        "df.to_excel('견적서_cluster.xlsx')"
      ],
      "metadata": {
        "id": "OeRWDoAQtyzV"
      },
      "execution_count": null,
      "outputs": []
    }
  ]
}