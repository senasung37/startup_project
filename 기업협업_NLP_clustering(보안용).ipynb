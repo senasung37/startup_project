{
  "nbformat": 4,
  "nbformat_minor": 0,
  "metadata": {
    "colab": {
      "name": "기업협업_NLP_clustering(보안용).ipynb",
      "provenance": [],
      "collapsed_sections": [],
      "authorship_tag": "ABX9TyNnI745P33KpjeA9vISsi/i",
      "include_colab_link": true
    },
    "kernelspec": {
      "name": "python3",
      "display_name": "Python 3"
    },
    "language_info": {
      "name": "python"
    },
    "accelerator": "GPU",
    "gpuClass": "standard"
  },
  "cells": [
    {
      "cell_type": "markdown",
      "metadata": {
        "id": "view-in-github",
        "colab_type": "text"
      },
      "source": [
        "<a href=\"https://colab.research.google.com/github/senasung37/startup_project/blob/main/%EA%B8%B0%EC%97%85%ED%98%91%EC%97%85_NLP_clustering(%EB%B3%B4%EC%95%88%EC%9A%A9).ipynb\" target=\"_parent\"><img src=\"https://colab.research.google.com/assets/colab-badge.svg\" alt=\"Open In Colab\"/></a>"
      ]
    },
    {
      "cell_type": "markdown",
      "source": [
        "# 연습 - 문장 클러스터링(예제코드)\n"
      ],
      "metadata": {
        "id": "YrXRl9V_kLb8"
      }
    },
    {
      "cell_type": "markdown",
      "source": [
        "출처: http://ai.intelligentonlinetools.com/ml/text-clustering-word-embedding-machine-learning/"
      ],
      "metadata": {
        "id": "Y6oB_aV5kWte"
      }
    },
    {
      "cell_type": "code",
      "source": [
        "#라이브러리\n",
        "from gensim.models import Word2Vec\n",
        "  \n",
        "from nltk.cluster import KMeansClusterer\n",
        "import nltk\n",
        "import numpy as np \n",
        "  \n",
        "from sklearn import cluster\n",
        "from sklearn import metrics"
      ],
      "metadata": {
        "id": "Fs7QFau4UyXR"
      },
      "execution_count": null,
      "outputs": []
    },
    {
      "cell_type": "code",
      "execution_count": null,
      "metadata": {
        "id": "135q_ro1UNel"
      },
      "outputs": [],
      "source": [
        "#문장 지정\n",
        "  \n",
        "sentences = [['this', 'is', 'the', 'one','good', 'machine', 'learning', 'book'],\n",
        "            ['this', 'is',  'another', 'book'],\n",
        "            ['one', 'more', 'book'],\n",
        "            ['weather', 'rain', 'snow'],\n",
        "            ['yesterday', 'weather', 'snow'],\n",
        "            ['forecast', 'tomorrow', 'rain', 'snow'],\n",
        "            ['this', 'is', 'the', 'new', 'post'],\n",
        "            ['this', 'is', 'about', 'more', 'machine', 'learning', 'post'],  \n",
        "            ['and', 'this', 'is', 'the', 'one', 'last', 'post', 'book']]"
      ]
    },
    {
      "cell_type": "code",
      "source": [
        "#W2V 모델 정의\n",
        "model = Word2Vec(sentences, min_count=1) "
      ],
      "metadata": {
        "id": "mf3EZc3SU9ON",
        "colab": {
          "base_uri": "https://localhost:8080/"
        },
        "outputId": "77874ac5-f53b-417f-8da9-16b4fda9653b"
      },
      "execution_count": null,
      "outputs": [
        {
          "output_type": "stream",
          "name": "stderr",
          "text": [
            "WARNING:gensim.models.base_any2vec:under 10 jobs per worker: consider setting a smaller `batch_words' for smoother alpha decay\n"
          ]
        }
      ]
    },
    {
      "cell_type": "code",
      "source": [
        "#문장 벡터라이징 함수\n",
        "def sent_vectorizer(sent, model):\n",
        "    sent_vec =[]\n",
        "    numw = 0\n",
        "    for w in sent:\n",
        "        try:\n",
        "            if numw == 0:\n",
        "                sent_vec = model[w]\n",
        "            else:\n",
        "                sent_vec = np.add(sent_vec, model[w])\n",
        "            numw+=1\n",
        "        except:\n",
        "            pass\n",
        "     \n",
        "    return np.asarray(sent_vec) / numw"
      ],
      "metadata": {
        "id": "ZMSsWaAH484G"
      },
      "execution_count": null,
      "outputs": []
    },
    {
      "cell_type": "code",
      "source": [
        "#문장 벡터라이징\n",
        "X=[]\n",
        "for sentence in sentences:\n",
        "    X.append(sent_vectorizer(sentence, model))   \n",
        " \n",
        "print (\"========================\")\n",
        "print (X[:1])"
      ],
      "metadata": {
        "colab": {
          "base_uri": "https://localhost:8080/"
        },
        "id": "0Pm3wsISjUys",
        "outputId": "1109b7b2-f6b8-455e-da6c-a74f79de050b"
      },
      "execution_count": null,
      "outputs": [
        {
          "output_type": "stream",
          "name": "stdout",
          "text": [
            "========================\n",
            "[array([-1.71449711e-03,  1.80841773e-04,  1.13617815e-03,  7.63929100e-04,\n",
            "        1.21060305e-03, -9.56489879e-04,  6.98616845e-04,  1.88184640e-04,\n",
            "        1.03972526e-03,  1.05903752e-03,  6.63258776e-04, -5.04950876e-05,\n",
            "       -9.62907943e-05,  4.36705450e-05, -9.55566356e-04, -4.95635322e-04,\n",
            "       -5.06073528e-04,  1.98457041e-03, -1.54185551e-03,  3.56847653e-04,\n",
            "       -2.85365677e-04, -2.49756267e-04, -7.27393548e-04, -1.82820589e-03,\n",
            "       -6.90047920e-04, -2.22838670e-03,  8.82053515e-04, -1.14997278e-03,\n",
            "        1.03867357e-03, -5.59681284e-05,  1.31302816e-03, -7.39938347e-04,\n",
            "        3.36365658e-04, -1.58022565e-03,  1.97277710e-04, -1.86555146e-04,\n",
            "       -4.29884734e-04, -1.84624037e-03,  4.67350881e-04,  8.16797488e-04,\n",
            "       -5.04666357e-04, -1.15899451e-03, -5.24852134e-04, -4.33238107e-04,\n",
            "       -8.14448635e-04,  1.95869012e-04, -1.27887688e-04, -3.85744468e-04,\n",
            "        6.46782806e-04, -6.98396936e-04, -9.51066249e-05,  3.00068088e-04,\n",
            "        3.93253984e-04, -1.05676497e-03,  1.34340342e-04, -1.41173345e-03,\n",
            "       -7.12572481e-04, -1.55587331e-03, -5.87524730e-04, -1.75833306e-03,\n",
            "        4.87661775e-04, -1.40073453e-03,  2.08957645e-05,  7.68347527e-04,\n",
            "       -1.74118113e-03,  1.70403422e-04, -2.41287868e-03,  4.02872654e-04,\n",
            "       -9.20288403e-06,  6.09547365e-04,  1.16700493e-03,  4.69854713e-04,\n",
            "       -4.75710141e-04,  6.10857387e-04, -4.77202702e-04,  1.05664425e-04,\n",
            "        8.57796753e-04,  1.87383103e-03, -3.40173981e-04, -5.95944934e-04,\n",
            "       -5.21640060e-04,  2.25220865e-04,  7.75416265e-04,  5.67342388e-04,\n",
            "        8.98814993e-04, -5.76135062e-04,  3.14691337e-04, -7.00279488e-05,\n",
            "        3.60234233e-04, -4.49647487e-04,  6.04321831e-04,  8.32925783e-04,\n",
            "        7.73558568e-04, -1.46382707e-04, -7.49971252e-04, -1.63011689e-04,\n",
            "        7.69030448e-05,  7.87166297e-04, -1.15679391e-03,  1.31114630e-03],\n",
            "      dtype=float32)]\n"
          ]
        },
        {
          "output_type": "stream",
          "name": "stderr",
          "text": [
            "/usr/local/lib/python3.7/dist-packages/ipykernel_launcher.py:8: DeprecationWarning: Call to deprecated `__getitem__` (Method will be removed in 4.0.0, use self.wv.__getitem__() instead).\n",
            "  \n",
            "/usr/local/lib/python3.7/dist-packages/ipykernel_launcher.py:10: DeprecationWarning: Call to deprecated `__getitem__` (Method will be removed in 4.0.0, use self.wv.__getitem__() instead).\n",
            "  # Remove the CWD from sys.path while we load stuff.\n"
          ]
        }
      ]
    },
    {
      "cell_type": "code",
      "source": [
        "#학습된 단어들 \n",
        "model[model.wv.vocab]"
      ],
      "metadata": {
        "colab": {
          "base_uri": "https://localhost:8080/"
        },
        "id": "bAFU1wcy6LQp",
        "outputId": "26f139fc-413a-49fa-d91a-1ae3db9f1ef5"
      },
      "execution_count": null,
      "outputs": [
        {
          "output_type": "stream",
          "name": "stderr",
          "text": [
            "/usr/local/lib/python3.7/dist-packages/ipykernel_launcher.py:2: DeprecationWarning: Call to deprecated `__getitem__` (Method will be removed in 4.0.0, use self.wv.__getitem__() instead).\n",
            "  \n"
          ]
        },
        {
          "output_type": "execute_result",
          "data": {
            "text/plain": [
              "array([[-4.9400455e-03, -2.0696244e-03, -3.5341349e-03, ...,\n",
              "        -1.7612353e-04, -4.9399710e-03,  4.6905293e-03],\n",
              "       [ 2.0826842e-04, -1.9352066e-03,  4.5244200e-03, ...,\n",
              "         3.7255071e-03, -2.7765275e-03,  3.4952599e-03],\n",
              "       [-1.0411508e-04,  2.0852324e-03, -1.6639740e-03, ...,\n",
              "         1.0148311e-04, -3.1362134e-03,  1.3670798e-03],\n",
              "       ...,\n",
              "       [-3.6425616e-03, -4.7247726e-03, -2.9592051e-03, ...,\n",
              "         1.4746583e-03,  6.5297075e-04, -3.5719033e-03],\n",
              "       [-4.5596724e-03,  1.1867620e-04,  2.2691085e-04, ...,\n",
              "        -4.5145252e-03,  2.2664904e-03, -2.0495283e-03],\n",
              "       [-5.2015885e-04,  4.2869141e-03,  7.7297882e-05, ...,\n",
              "        -3.9826334e-03, -2.8687224e-03,  3.9444263e-03]], dtype=float32)"
            ]
          },
          "metadata": {},
          "execution_count": 6
        }
      ]
    },
    {
      "cell_type": "code",
      "source": [
        "#단어간 유사도 평가(코싸인 유사도)\n",
        "print (model.similarity('this', 'more'))\n"
      ],
      "metadata": {
        "colab": {
          "base_uri": "https://localhost:8080/"
        },
        "id": "lLT9s8qLVEio",
        "outputId": "c19022af-03ef-4349-90e2-3e1fa3cfd734"
      },
      "execution_count": null,
      "outputs": [
        {
          "output_type": "stream",
          "name": "stdout",
          "text": [
            "-0.0009720714\n"
          ]
        },
        {
          "output_type": "stream",
          "name": "stderr",
          "text": [
            "/usr/local/lib/python3.7/dist-packages/ipykernel_launcher.py:2: DeprecationWarning: Call to deprecated `similarity` (Method will be removed in 4.0.0, use self.wv.similarity() instead).\n",
            "  \n"
          ]
        }
      ]
    },
    {
      "cell_type": "code",
      "source": [
        "#유사한 단어 불러오기(the top-N most similar words)\n",
        "print(model.most_similar(positive=['machine'], negative=[], topn=5))"
      ],
      "metadata": {
        "colab": {
          "base_uri": "https://localhost:8080/"
        },
        "id": "LIQwDVg47tOe",
        "outputId": "c58591ac-fe06-46da-afd6-d0150559b246"
      },
      "execution_count": null,
      "outputs": [
        {
          "output_type": "stream",
          "name": "stdout",
          "text": [
            "[('this', 0.07980456203222275), ('another', 0.03856130689382553), ('forecast', 0.030820723623037338), ('about', 0.02974899858236313), ('one', 0.027424011379480362)]\n"
          ]
        },
        {
          "output_type": "stream",
          "name": "stderr",
          "text": [
            "/usr/local/lib/python3.7/dist-packages/ipykernel_launcher.py:2: DeprecationWarning: Call to deprecated `most_similar` (Method will be removed in 4.0.0, use self.wv.most_similar() instead).\n",
            "  \n"
          ]
        }
      ]
    },
    {
      "cell_type": "code",
      "source": [
        "#클러스터링\n",
        "NUM_CLUSTERS = 2\n",
        "kclusterer = KMeansClusterer(NUM_CLUSTERS, distance=nltk.cluster.util.cosine_distance, repeats=25)\n",
        "assigned_clusters = kclusterer.cluster(X, assign_clusters=True)\n",
        "print (assigned_clusters)   \n",
        "  \n",
        "for index, sentence in enumerate(sentences):    \n",
        "    print (str(assigned_clusters[index]) + \":\" + str(sentence))    \n",
        "     \n",
        "     \n",
        "kmeans = cluster.KMeans(n_clusters=NUM_CLUSTERS)\n",
        "kmeans.fit(X)"
      ],
      "metadata": {
        "colab": {
          "base_uri": "https://localhost:8080/"
        },
        "id": "GpJGkGjHVJ8M",
        "outputId": "9a3eac46-4378-452d-c04c-074d3444395b"
      },
      "execution_count": null,
      "outputs": [
        {
          "output_type": "stream",
          "name": "stdout",
          "text": [
            "[0, 0, 1, 1, 1, 1, 0, 0, 0]\n",
            "0:['this', 'is', 'the', 'one', 'good', 'machine', 'learning', 'book']\n",
            "0:['this', 'is', 'another', 'book']\n",
            "1:['one', 'more', 'book']\n",
            "1:['weather', 'rain', 'snow']\n",
            "1:['yesterday', 'weather', 'snow']\n",
            "1:['forecast', 'tomorrow', 'rain', 'snow']\n",
            "0:['this', 'is', 'the', 'new', 'post']\n",
            "0:['this', 'is', 'about', 'more', 'machine', 'learning', 'post']\n",
            "0:['and', 'this', 'is', 'the', 'one', 'last', 'post', 'book']\n"
          ]
        },
        {
          "output_type": "execute_result",
          "data": {
            "text/plain": [
              "KMeans(n_clusters=2)"
            ]
          },
          "metadata": {},
          "execution_count": 9
        }
      ]
    },
    {
      "cell_type": "code",
      "source": [
        "#클러스터링 결과\n",
        "labels = kmeans.labels_\n",
        "centroids = kmeans.cluster_centers_\n",
        "  \n",
        "print (\"Cluster id labels for inputted data\")\n",
        "print (labels)\n",
        "print (\"-----------\")\n",
        "print (\"Centroids data\")\n",
        "print (centroids)\n",
        "print (\"-----------\")  \n",
        "print (\"Score (Opposite of the value of X on the K-means objective which is Sum of distances of samples to their closest cluster center):\")\n",
        "print (kmeans.score(X))"
      ],
      "metadata": {
        "colab": {
          "base_uri": "https://localhost:8080/"
        },
        "id": "uGGwXvBWjzdt",
        "outputId": "517d9bed-a918-466b-b73a-92143861a355"
      },
      "execution_count": null,
      "outputs": [
        {
          "output_type": "stream",
          "name": "stdout",
          "text": [
            "Cluster id labels for inputted data\n",
            "[1 1 1 0 0 0 1 1 1]\n",
            "-----------\n",
            "Centroids data\n",
            "[[ 3.23950449e-04 -9.14007736e-04  9.68128579e-04  4.58218701e-04\n",
            "  -7.73428551e-04  1.77843787e-04 -9.15176099e-04 -1.78248195e-03\n",
            "  -7.32561754e-04 -2.43101638e-03 -4.03089158e-04  1.06729412e-03\n",
            "  -1.36130909e-03  8.21379285e-04 -9.04728309e-04 -1.03955171e-03\n",
            "   9.01471173e-04 -4.04134024e-04  1.53901733e-03  1.09919613e-03\n",
            "   2.98512537e-04  1.64742632e-03 -2.05981208e-03 -7.70296586e-05\n",
            "   1.06155522e-03  1.04290453e-03  5.15791277e-04 -9.33207169e-06\n",
            "  -1.12573946e-03 -1.75702366e-03 -6.65363861e-04 -2.11138212e-03\n",
            "   2.50534200e-04  9.89086945e-04 -1.14994294e-03  1.85876002e-03\n",
            "   1.70799647e-03  1.05132790e-03 -1.18487014e-03 -1.01979883e-03\n",
            "  -1.71473479e-03 -3.27058136e-03 -4.01940963e-04 -1.71366136e-03\n",
            "  -6.16218487e-04  1.17583356e-03 -5.17875781e-04  2.77647277e-04\n",
            "   2.28221509e-04 -1.44637869e-03  1.02228349e-03 -8.90493112e-04\n",
            "  -1.73306602e-04  2.34209548e-03  1.42353439e-03 -1.57331782e-03\n",
            "  -9.79947353e-04  2.18086449e-03  4.87186238e-05 -1.76158055e-03\n",
            "   2.06598841e-03 -2.05755758e-03  1.33347787e-03 -1.72929295e-03\n",
            "   1.15318877e-03  1.25269743e-03  9.17546582e-04 -7.84094271e-04\n",
            "  -2.08596573e-04  6.90825676e-04  3.00711816e-04 -2.26378392e-03\n",
            "   8.21833770e-05 -7.13674386e-04 -4.13744652e-04  3.08585539e-03\n",
            "   2.19397465e-04  1.62059771e-04 -3.40525546e-04  9.46373873e-04\n",
            "  -7.48585929e-04  1.19786069e-03  1.20887847e-03  9.14431358e-04\n",
            "   1.16555534e-04  7.66532408e-04 -1.61566675e-04 -2.38730894e-03\n",
            "   5.40109739e-04 -1.72991480e-03 -5.38120628e-04 -1.46880678e-05\n",
            "   1.17041605e-03 -1.68114630e-03 -3.39840432e-04  2.09527521e-03\n",
            "   1.74216441e-03 -8.28763121e-04 -5.83183292e-04  1.06079442e-03]\n",
            " [-1.84140643e-03 -8.62412281e-04  5.69230286e-04  1.15430943e-03\n",
            "   7.06075700e-04 -2.44807269e-04  7.75478838e-04  1.27404581e-03\n",
            "   1.09821668e-03  1.23606849e-03  7.34220366e-04 -5.76226143e-04\n",
            "  -9.51985569e-04  2.55225910e-04 -6.88834315e-04  1.80339701e-04\n",
            "  -3.46986121e-04  5.03568246e-04 -1.34166084e-03 -9.41758723e-04\n",
            "  -7.50268809e-05  1.80993976e-04  2.76382695e-04 -8.11012450e-04\n",
            "  -6.92095016e-04 -2.11370711e-03  2.17104282e-04 -1.59980863e-04\n",
            "   1.25453773e-03  1.97953165e-04  1.47431947e-03 -1.15043371e-03\n",
            "  -4.46155961e-04 -3.12909106e-04  5.80117858e-04 -3.59504455e-04\n",
            "   2.43055275e-04 -2.25100721e-03  1.38846151e-03  2.56860837e-04\n",
            "  -1.16567929e-03 -6.39833403e-05 -3.07101823e-04 -5.69270303e-04\n",
            "  -1.85558552e-03  1.12506386e-05 -2.70396798e-04 -3.01796742e-04\n",
            "   1.42987073e-04 -1.22551161e-03  1.32309678e-04  3.79840367e-04\n",
            "  -1.68100523e-04 -9.22590042e-04 -1.75026170e-04 -6.75049106e-04\n",
            "  -1.06753267e-03 -1.30597263e-03 -6.02675917e-04 -1.69592894e-03\n",
            "   8.80715039e-05 -1.62025020e-03 -2.14310533e-04  6.34866990e-04\n",
            "  -1.12252421e-03  9.07463965e-04 -1.17737196e-03  7.03970732e-04\n",
            "   2.71391409e-04  1.62846001e-04  7.98529882e-04  2.65040500e-04\n",
            "  -5.43910030e-04  8.64859554e-04 -7.16708140e-05  9.31305209e-05\n",
            "   3.00910222e-04  6.43909823e-04  3.20276731e-04 -1.21225914e-03\n",
            "  -2.87790830e-04 -4.85754853e-04  4.30524024e-04 -2.47314434e-04\n",
            "   1.08450548e-03 -7.02234310e-04  4.76079707e-04  1.17625104e-03\n",
            "   4.53521595e-04 -8.23520366e-04  8.71095346e-04  1.68986411e-03\n",
            "   5.09781220e-04 -9.25513620e-05  2.74123997e-04  5.19795804e-04\n",
            "  -3.55813027e-05  9.54262073e-04 -7.37028759e-04  8.80858572e-04]]\n",
            "-----------\n",
            "Score (Opposite of the value of X on the K-means objective which is Sum of distances of samples to their closest cluster center):\n",
            "-0.0007948482997931767\n"
          ]
        }
      ]
    },
    {
      "cell_type": "code",
      "source": [
        "#실루엣 점수 평가(클러스터링 평가: -1~1)\n",
        "silhouette_score = metrics.silhouette_score(X, labels, metric='euclidean')\n",
        "print (\"Silhouette_score: \")\n",
        "print (silhouette_score) "
      ],
      "metadata": {
        "colab": {
          "base_uri": "https://localhost:8080/"
        },
        "id": "UhVpKChgVAVX",
        "outputId": "84020eb0-5462-497b-d8dd-dba830030d56"
      },
      "execution_count": null,
      "outputs": [
        {
          "output_type": "stream",
          "name": "stdout",
          "text": [
            "Silhouette_score: \n",
            "0.289187\n"
          ]
        }
      ]
    },
    {
      "cell_type": "code",
      "source": [
        "#클러스터링 시각화\n",
        "import matplotlib.pyplot as plt \n",
        "from sklearn.manifold import TSNE\n",
        " \n",
        "model = TSNE(n_components=2, random_state=0)\n",
        "np.set_printoptions(suppress=True)\n",
        " \n",
        "Y=model.fit_transform(X)\n",
        "  \n",
        "plt.scatter(Y[:, 0], Y[:, 1], c=assigned_clusters, s=290,alpha=.5)\n",
        "  \n",
        "for j in range(len(sentences)):    \n",
        "   plt.annotate(assigned_clusters[j],xy=(Y[j][0], Y[j][1]),xytext=(0,0),textcoords='offset points')\n",
        "   print (\"%s %s\" % (assigned_clusters[j],  sentences[j]))\n",
        " \n",
        "plt.show()"
      ],
      "metadata": {
        "colab": {
          "base_uri": "https://localhost:8080/",
          "height": 511
        },
        "id": "UFWWJfkiU-og",
        "outputId": "9a9721ea-676e-4fb7-85b0-13d75f9fdd6a"
      },
      "execution_count": null,
      "outputs": [
        {
          "output_type": "stream",
          "name": "stderr",
          "text": [
            "/usr/local/lib/python3.7/dist-packages/sklearn/manifold/_t_sne.py:783: FutureWarning: The default initialization in TSNE will change from 'random' to 'pca' in 1.2.\n",
            "  FutureWarning,\n",
            "/usr/local/lib/python3.7/dist-packages/sklearn/manifold/_t_sne.py:793: FutureWarning: The default learning rate in TSNE will change from 200.0 to 'auto' in 1.2.\n",
            "  FutureWarning,\n"
          ]
        },
        {
          "output_type": "stream",
          "name": "stdout",
          "text": [
            "0 ['this', 'is', 'the', 'one', 'good', 'machine', 'learning', 'book']\n",
            "0 ['this', 'is', 'another', 'book']\n",
            "1 ['one', 'more', 'book']\n",
            "1 ['weather', 'rain', 'snow']\n",
            "1 ['yesterday', 'weather', 'snow']\n",
            "1 ['forecast', 'tomorrow', 'rain', 'snow']\n",
            "0 ['this', 'is', 'the', 'new', 'post']\n",
            "0 ['this', 'is', 'about', 'more', 'machine', 'learning', 'post']\n",
            "0 ['and', 'this', 'is', 'the', 'one', 'last', 'post', 'book']\n"
          ]
        },
        {
          "output_type": "display_data",
          "data": {
            "text/plain": [
              "<Figure size 432x288 with 1 Axes>"
            ],
            "image/png": "[encoded data removed]"
          },
          "metadata": {
            "needs_background": "light"
          }
        }
      ]
    },
    {
      "cell_type": "code",
      "source": [
        ""
      ],
      "metadata": {
        "id": "buERXvR8jMi9"
      },
      "execution_count": null,
      "outputs": []
    },
    {
      "cell_type": "markdown",
      "source": [
        "#프로젝트 - 페이워크 데이터에 적용"
      ],
      "metadata": {
        "id": "4XcJamZskZ8C"
      }
    },
    {
      "cell_type": "code",
      "source": [
        "#라이브러리\n",
        "import pandas as pd\n",
        "import requests\n",
        "import numpy as np\n",
        "\n",
        "#nlp 라이브러리\n",
        "import re\n",
        "import nltk\n",
        "import spacy\n",
        "from spacy.tokenizer import Tokenizer\n",
        "from nltk.tokenize import word_tokenize\n",
        "from nltk.corpus import stopwords \n",
        "\n",
        "#w2v, kmeans 라이브러리\n",
        "from gensim.models import Word2Vec\n",
        "from nltk.cluster import KMeansClusterer  \n",
        "from sklearn import cluster\n",
        "from sklearn import metrics"
      ],
      "metadata": {
        "id": "5YL7-tQxp5KB"
      },
      "execution_count": null,
      "outputs": []
    },
    {
      "cell_type": "code",
      "source": [
        "# 견적서 파일 df로 불러오기\n",
        "df = pd.read_excel('견적서_변형.xlsx')\n",
        "df.head(3)"
      ],
      "metadata": {
        "colab": {
          "base_uri": "https://localhost:8080/",
          "height": 187
        },
        "id": "pyGcFiYckeOb",
        "outputId": "9d9659aa-c415-40f3-d816-72b1342eb5f2"
      },
      "execution_count": null,
      "outputs": [
        {
          "output_type": "execute_result",
          "data": {
            "text/plain": [
              "         유저명  사업자 여부 클라이언트       총 금액        항목명           규격    수량       단가  \\\n",
              "0  Lee Jeong       1   김민찬  1500000.0    영문기사 작성          NaN     1  1000000   \n",
              "1        이정훈       0  클래스랩  1125000.0  신문사 기사 발행          NaN     5   150000   \n",
              "2      siren       1   이운형  8250000.0     김치찌개 팩  구수한맛50g*2ea  1000     2500   \n",
              "\n",
              "      분류  세부분류   메모  Unnamed: 11  Unnamed: 12 Unnamed: 13  \n",
              "0   비즈니스  문서작업  NaN          NaN          NaN         NaN  \n",
              "1   비즈니스  문서작업  NaN          NaN          NaN         NaN  \n",
              "2  건강/미용    푸드  NaN          NaN          NaN         NaN  "
            ],
            "text/html": [
              "\n",
              "  <div id=\"df-ac60c5b9-857c-493a-a175-75a4a6c39d9a\">\n",
              "    <div class=\"colab-df-container\">\n",
              "      <div>\n",
              "<style scoped>\n",
              "    .dataframe tbody tr th:only-of-type {\n",
              "        vertical-align: middle;\n",
              "    }\n",
              "\n",
              "    .dataframe tbody tr th {\n",
              "        vertical-align: top;\n",
              "    }\n",
              "\n",
              "    .dataframe thead th {\n",
              "        text-align: right;\n",
              "    }\n",
              "</style>\n",
              "<table border=\"1\" class=\"dataframe\">\n",
              "  <thead>\n",
              "    <tr style=\"text-align: right;\">\n",
              "      <th></th>\n",
              "      <th>유저명</th>\n",
              "      <th>사업자 여부</th>\n",
              "      <th>클라이언트</th>\n",
              "      <th>총 금액</th>\n",
              "      <th>항목명</th>\n",
              "      <th>규격</th>\n",
              "      <th>수량</th>\n",
              "      <th>단가</th>\n",
              "      <th>분류</th>\n",
              "      <th>세부분류</th>\n",
              "      <th>메모</th>\n",
              "      <th>Unnamed: 11</th>\n",
              "      <th>Unnamed: 12</th>\n",
              "      <th>Unnamed: 13</th>\n",
              "    </tr>\n",
              "  </thead>\n",
              "  <tbody>\n",
              "    <tr>\n",
              "      <th>0</th>\n",
              "      <td>Lee Jeong</td>\n",
              "      <td>1</td>\n",
              "      <td>김민찬</td>\n",
              "      <td>1500000.0</td>\n",
              "      <td>영문기사 작성</td>\n",
              "      <td>NaN</td>\n",
              "      <td>1</td>\n",
              "      <td>1000000</td>\n",
              "      <td>비즈니스</td>\n",
              "      <td>문서작업</td>\n",
              "      <td>NaN</td>\n",
              "      <td>NaN</td>\n",
              "      <td>NaN</td>\n",
              "      <td>NaN</td>\n",
              "    </tr>\n",
              "    <tr>\n",
              "      <th>1</th>\n",
              "      <td>이정훈</td>\n",
              "      <td>0</td>\n",
              "      <td>클래스랩</td>\n",
              "      <td>1125000.0</td>\n",
              "      <td>신문사 기사 발행</td>\n",
              "      <td>NaN</td>\n",
              "      <td>5</td>\n",
              "      <td>150000</td>\n",
              "      <td>비즈니스</td>\n",
              "      <td>문서작업</td>\n",
              "      <td>NaN</td>\n",
              "      <td>NaN</td>\n",
              "      <td>NaN</td>\n",
              "      <td>NaN</td>\n",
              "    </tr>\n",
              "    <tr>\n",
              "      <th>2</th>\n",
              "      <td>siren</td>\n",
              "      <td>1</td>\n",
              "      <td>이운형</td>\n",
              "      <td>8250000.0</td>\n",
              "      <td>김치찌개 팩</td>\n",
              "      <td>구수한맛50g*2ea</td>\n",
              "      <td>1000</td>\n",
              "      <td>2500</td>\n",
              "      <td>건강/미용</td>\n",
              "      <td>푸드</td>\n",
              "      <td>NaN</td>\n",
              "      <td>NaN</td>\n",
              "      <td>NaN</td>\n",
              "      <td>NaN</td>\n",
              "    </tr>\n",
              "  </tbody>\n",
              "</table>\n",
              "</div>\n",
              "      <button class=\"colab-df-convert\" onclick=\"convertToInteractive('df-ac60c5b9-857c-493a-a175-75a4a6c39d9a')\"\n",
              "              title=\"Convert this dataframe to an interactive table.\"\n",
              "              style=\"display:none;\">\n",
              "        \n",
              "  <svg xmlns=\"http://www.w3.org/2000/svg\" height=\"24px\"viewBox=\"0 0 24 24\"\n",
              "       width=\"24px\">\n",
              "    <path d=\"M0 0h24v24H0V0z\" fill=\"none\"/>\n",
              "    <path d=\"M18.56 5.44l.94 2.06.94-2.06 2.06-.94-2.06-.94-.94-2.06-.94 2.06-2.06.94zm-11 1L8.5 8.5l.94-2.06 2.06-.94-2.06-.94L8.5 2.5l-.94 2.06-2.06.94zm10 10l.94 2.06.94-2.06 2.06-.94-2.06-.94-.94-2.06-.94 2.06-2.06.94z\"/><path d=\"M17.41 7.96l-1.37-1.37c-.4-.4-.92-.59-1.43-.59-.52 0-1.04.2-1.43.59L10.3 9.45l-7.72 7.72c-.78.78-.78 2.05 0 2.83L4 21.41c.39.39.9.59 1.41.59.51 0 1.02-.2 1.41-.59l7.78-7.78 2.81-2.81c.8-.78.8-2.07 0-2.86zM5.41 20L4 18.59l7.72-7.72 1.47 1.35L5.41 20z\"/>\n",
              "  </svg>\n",
              "      </button>\n",
              "      \n",
              "  <style>\n",
              "    .colab-df-container {\n",
              "      display:flex;\n",
              "      flex-wrap:wrap;\n",
              "      gap: 12px;\n",
              "    }\n",
              "\n",
              "    .colab-df-convert {\n",
              "      background-color: #E8F0FE;\n",
              "      border: none;\n",
              "      border-radius: 50%;\n",
              "      cursor: pointer;\n",
              "      display: none;\n",
              "      fill: #1967D2;\n",
              "      height: 32px;\n",
              "      padding: 0 0 0 0;\n",
              "      width: 32px;\n",
              "    }\n",
              "\n",
              "    .colab-df-convert:hover {\n",
              "      background-color: #E2EBFA;\n",
              "      box-shadow: 0px 1px 2px rgba(60, 64, 67, 0.3), 0px 1px 3px 1px rgba(60, 64, 67, 0.15);\n",
              "      fill: #174EA6;\n",
              "    }\n",
              "\n",
              "    [theme=dark] .colab-df-convert {\n",
              "      background-color: #3B4455;\n",
              "      fill: #D2E3FC;\n",
              "    }\n",
              "\n",
              "    [theme=dark] .colab-df-convert:hover {\n",
              "      background-color: #434B5C;\n",
              "      box-shadow: 0px 1px 3px 1px rgba(0, 0, 0, 0.15);\n",
              "      filter: drop-shadow(0px 1px 2px rgba(0, 0, 0, 0.3));\n",
              "      fill: #FFFFFF;\n",
              "    }\n",
              "  </style>\n",
              "\n",
              "      <script>\n",
              "        const buttonEl =\n",
              "          document.querySelector('#df-ac60c5b9-857c-493a-a175-75a4a6c39d9a button.colab-df-convert');\n",
              "        buttonEl.style.display =\n",
              "          google.colab.kernel.accessAllowed ? 'block' : 'none';\n",
              "\n",
              "        async function convertToInteractive(key) {\n",
              "          const element = document.querySelector('#df-ac60c5b9-857c-493a-a175-75a4a6c39d9a');\n",
              "          const dataTable =\n",
              "            await google.colab.kernel.invokeFunction('convertToInteractive',\n",
              "                                                     [key], {});\n",
              "          if (!dataTable) return;\n",
              "\n",
              "          const docLinkHtml = 'Like what you see? Visit the ' +\n",
              "            '<a target=\"_blank\" href=https://colab.research.google.com/notebooks/data_table.ipynb>data table notebook</a>'\n",
              "            + ' to learn more about interactive tables.';\n",
              "          element.innerHTML = '';\n",
              "          dataTable['output_type'] = 'display_data';\n",
              "          await google.colab.output.renderOutput(dataTable, element);\n",
              "          const docLink = document.createElement('div');\n",
              "          docLink.innerHTML = docLinkHtml;\n",
              "          element.appendChild(docLink);\n",
              "        }\n",
              "      </script>\n",
              "    </div>\n",
              "  </div>\n",
              "  "
            ]
          },
          "metadata": {},
          "execution_count": 14
        }
      ]
    },
    {
      "cell_type": "code",
      "source": [
        "df = df.iloc[:, :10]\n",
        "df.head(3)"
      ],
      "metadata": {
        "colab": {
          "base_uri": "https://localhost:8080/",
          "height": 143
        },
        "id": "uJ6D1l5a2vnR",
        "outputId": "4eeaab71-6ba5-49ba-fb46-f778e08abc94"
      },
      "execution_count": null,
      "outputs": [
        {
          "output_type": "execute_result",
          "data": {
            "text/plain": [
              "         유저명  사업자 여부 클라이언트       총 금액        항목명           규격    수량       단가  \\\n",
              "0  Lee Jeong       1   김민찬  1500000.0    영문기사 작성          NaN     1  1000000   \n",
              "1        이정훈       0  클래스랩  1125000.0  신문사 기사 발행          NaN     5   150000   \n",
              "2      siren       1   이운형  8250000.0     김치찌개 팩  구수한맛50g*2ea  1000     2500   \n",
              "\n",
              "      분류  세부분류  \n",
              "0   비즈니스  문서작업  \n",
              "1   비즈니스  문서작업  \n",
              "2  건강/미용    푸드  "
            ],
            "text/html": [
              "\n",
              "  <div id=\"df-160155b9-cc7b-4860-bd3e-809ac90175f5\">\n",
              "    <div class=\"colab-df-container\">\n",
              "      <div>\n",
              "<style scoped>\n",
              "    .dataframe tbody tr th:only-of-type {\n",
              "        vertical-align: middle;\n",
              "    }\n",
              "\n",
              "    .dataframe tbody tr th {\n",
              "        vertical-align: top;\n",
              "    }\n",
              "\n",
              "    .dataframe thead th {\n",
              "        text-align: right;\n",
              "    }\n",
              "</style>\n",
              "<table border=\"1\" class=\"dataframe\">\n",
              "  <thead>\n",
              "    <tr style=\"text-align: right;\">\n",
              "      <th></th>\n",
              "      <th>유저명</th>\n",
              "      <th>사업자 여부</th>\n",
              "      <th>클라이언트</th>\n",
              "      <th>총 금액</th>\n",
              "      <th>항목명</th>\n",
              "      <th>규격</th>\n",
              "      <th>수량</th>\n",
              "      <th>단가</th>\n",
              "      <th>분류</th>\n",
              "      <th>세부분류</th>\n",
              "    </tr>\n",
              "  </thead>\n",
              "  <tbody>\n",
              "    <tr>\n",
              "      <th>0</th>\n",
              "      <td>Lee Jeong</td>\n",
              "      <td>1</td>\n",
              "      <td>김민찬</td>\n",
              "      <td>1500000.0</td>\n",
              "      <td>영문기사 작성</td>\n",
              "      <td>NaN</td>\n",
              "      <td>1</td>\n",
              "      <td>1000000</td>\n",
              "      <td>비즈니스</td>\n",
              "      <td>문서작업</td>\n",
              "    </tr>\n",
              "    <tr>\n",
              "      <th>1</th>\n",
              "      <td>이정훈</td>\n",
              "      <td>0</td>\n",
              "      <td>클래스랩</td>\n",
              "      <td>1125000.0</td>\n",
              "      <td>신문사 기사 발행</td>\n",
              "      <td>NaN</td>\n",
              "      <td>5</td>\n",
              "      <td>150000</td>\n",
              "      <td>비즈니스</td>\n",
              "      <td>문서작업</td>\n",
              "    </tr>\n",
              "    <tr>\n",
              "      <th>2</th>\n",
              "      <td>siren</td>\n",
              "      <td>1</td>\n",
              "      <td>이운형</td>\n",
              "      <td>8250000.0</td>\n",
              "      <td>김치찌개 팩</td>\n",
              "      <td>구수한맛50g*2ea</td>\n",
              "      <td>1000</td>\n",
              "      <td>2500</td>\n",
              "      <td>건강/미용</td>\n",
              "      <td>푸드</td>\n",
              "    </tr>\n",
              "  </tbody>\n",
              "</table>\n",
              "</div>\n",
              "      <button class=\"colab-df-convert\" onclick=\"convertToInteractive('df-160155b9-cc7b-4860-bd3e-809ac90175f5')\"\n",
              "              title=\"Convert this dataframe to an interactive table.\"\n",
              "              style=\"display:none;\">\n",
              "        \n",
              "  <svg xmlns=\"http://www.w3.org/2000/svg\" height=\"24px\"viewBox=\"0 0 24 24\"\n",
              "       width=\"24px\">\n",
              "    <path d=\"M0 0h24v24H0V0z\" fill=\"none\"/>\n",
              "    <path d=\"M18.56 5.44l.94 2.06.94-2.06 2.06-.94-2.06-.94-.94-2.06-.94 2.06-2.06.94zm-11 1L8.5 8.5l.94-2.06 2.06-.94-2.06-.94L8.5 2.5l-.94 2.06-2.06.94zm10 10l.94 2.06.94-2.06 2.06-.94-2.06-.94-.94-2.06-.94 2.06-2.06.94z\"/><path d=\"M17.41 7.96l-1.37-1.37c-.4-.4-.92-.59-1.43-.59-.52 0-1.04.2-1.43.59L10.3 9.45l-7.72 7.72c-.78.78-.78 2.05 0 2.83L4 21.41c.39.39.9.59 1.41.59.51 0 1.02-.2 1.41-.59l7.78-7.78 2.81-2.81c.8-.78.8-2.07 0-2.86zM5.41 20L4 18.59l7.72-7.72 1.47 1.35L5.41 20z\"/>\n",
              "  </svg>\n",
              "      </button>\n",
              "      \n",
              "  <style>\n",
              "    .colab-df-container {\n",
              "      display:flex;\n",
              "      flex-wrap:wrap;\n",
              "      gap: 12px;\n",
              "    }\n",
              "\n",
              "    .colab-df-convert {\n",
              "      background-color: #E8F0FE;\n",
              "      border: none;\n",
              "      border-radius: 50%;\n",
              "      cursor: pointer;\n",
              "      display: none;\n",
              "      fill: #1967D2;\n",
              "      height: 32px;\n",
              "      padding: 0 0 0 0;\n",
              "      width: 32px;\n",
              "    }\n",
              "\n",
              "    .colab-df-convert:hover {\n",
              "      background-color: #E2EBFA;\n",
              "      box-shadow: 0px 1px 2px rgba(60, 64, 67, 0.3), 0px 1px 3px 1px rgba(60, 64, 67, 0.15);\n",
              "      fill: #174EA6;\n",
              "    }\n",
              "\n",
              "    [theme=dark] .colab-df-convert {\n",
              "      background-color: #3B4455;\n",
              "      fill: #D2E3FC;\n",
              "    }\n",
              "\n",
              "    [theme=dark] .colab-df-convert:hover {\n",
              "      background-color: #434B5C;\n",
              "      box-shadow: 0px 1px 3px 1px rgba(0, 0, 0, 0.15);\n",
              "      filter: drop-shadow(0px 1px 2px rgba(0, 0, 0, 0.3));\n",
              "      fill: #FFFFFF;\n",
              "    }\n",
              "  </style>\n",
              "\n",
              "      <script>\n",
              "        const buttonEl =\n",
              "          document.querySelector('#df-160155b9-cc7b-4860-bd3e-809ac90175f5 button.colab-df-convert');\n",
              "        buttonEl.style.display =\n",
              "          google.colab.kernel.accessAllowed ? 'block' : 'none';\n",
              "\n",
              "        async function convertToInteractive(key) {\n",
              "          const element = document.querySelector('#df-160155b9-cc7b-4860-bd3e-809ac90175f5');\n",
              "          const dataTable =\n",
              "            await google.colab.kernel.invokeFunction('convertToInteractive',\n",
              "                                                     [key], {});\n",
              "          if (!dataTable) return;\n",
              "\n",
              "          const docLinkHtml = 'Like what you see? Visit the ' +\n",
              "            '<a target=\"_blank\" href=https://colab.research.google.com/notebooks/data_table.ipynb>data table notebook</a>'\n",
              "            + ' to learn more about interactive tables.';\n",
              "          element.innerHTML = '';\n",
              "          dataTable['output_type'] = 'display_data';\n",
              "          await google.colab.output.renderOutput(dataTable, element);\n",
              "          const docLink = document.createElement('div');\n",
              "          docLink.innerHTML = docLinkHtml;\n",
              "          element.appendChild(docLink);\n",
              "        }\n",
              "      </script>\n",
              "    </div>\n",
              "  </div>\n",
              "  "
            ]
          },
          "metadata": {},
          "execution_count": 15
        }
      ]
    },
    {
      "cell_type": "code",
      "source": [
        "#테스트 행 삭제\n",
        "df = df[df[\"분류\"].str.contains('테스트') == False]"
      ],
      "metadata": {
        "id": "UxlJgC4vz6R_"
      },
      "execution_count": null,
      "outputs": []
    },
    {
      "cell_type": "code",
      "source": [
        "#함수-특수기호, 공백제거\n",
        "def clean_text(texts):\n",
        "  #remove punctuation \n",
        "  new_text = re.sub(r'[@%\\\\*=()/~#&\\+á?\\xc3\\xa1\\-\\|\\.\\:\\;\\!\\-\\,\\_\\~\\$\\'\\\"]', '',str(texts))\n",
        "\n",
        "  #remove number\n",
        "  new_text = re.sub(r'\\d+','', str(new_text))\n",
        "  #remove extra space\n",
        "  new_text = re.sub(r'\\s+', ' ',new_text) \n",
        "  #remove spaces\n",
        "  new_text = re.sub(r'\\s+', ' ', new_text) \n",
        "  #remove space from start\n",
        "  new_text = re.sub(r\"^\\s+\", '', new_text) \n",
        "  #remove space from the end  \n",
        "  new_text = re.sub(r'\\s+$', '', new_text) \n",
        "  #lower case \n",
        "  new_text = new_text.lower() \n",
        "  #remove Html tags \n",
        "  #new_text = re.sub(r'<[^>]+>', '', new_text) \n",
        "  return new_text"
      ],
      "metadata": {
        "id": "kXB-P1qaz87A"
      },
      "execution_count": null,
      "outputs": []
    },
    {
      "cell_type": "code",
      "source": [
        "#데이터 클리닝\n",
        "df['clean_text'] = df['항목명'].apply(clean_text)"
      ],
      "metadata": {
        "id": "vmAz5uHt2R7C"
      },
      "execution_count": null,
      "outputs": []
    },
    {
      "cell_type": "code",
      "source": [
        "#라이브러리 설치 및 import\n",
        "!pip install git+https://github.com/haven-jeon/PyKoSpacing.git\n",
        "!pip install git+https://github.com/ssut/py-hanspell.git\n",
        "from pykospacing import Spacing\n",
        "from hanspell import spell_checker"
      ],
      "metadata": {
        "id": "mdZI0iqL0315",
        "colab": {
          "base_uri": "https://localhost:8080/",
          "height": 1000
        },
        "outputId": "cbcdc310-04ab-48b3-9c68-acc0ece72002"
      },
      "execution_count": null,
      "outputs": [
        {
          "output_type": "stream",
          "name": "stdout",
          "text": [
            "Looking in indexes: https://pypi.org/simple, https://us-python.pkg.dev/colab-wheels/public/simple/\n",
            "Collecting git+https://github.com/haven-jeon/PyKoSpacing.git\n",
            "  Cloning https://github.com/haven-jeon/PyKoSpacing.git to /tmp/pip-req-build-0vaz9bav\n",
            "  Running command git clone -q https://github.com/haven-jeon/PyKoSpacing.git /tmp/pip-req-build-0vaz9bav\n",
            "Collecting tensorflow==2.7.2\n",
            "  Downloading https://us-python.pkg.dev/colab-wheels/public/tensorflow/tensorflow-2.7.2%2Bzzzcolab20220516114640-cp37-cp37m-linux_x86_64.whl (671.4 MB)\n",
            "\u001b[K     |████████████████████████████████| 671.4 MB 1.8 kB/s \n",
            "\u001b[?25hRequirement already satisfied: h5py==3.1.0 in /usr/local/lib/python3.7/dist-packages (from pykospacing==0.5) (3.1.0)\n",
            "Collecting argparse>=1.4.0\n",
            "  Downloading argparse-1.4.0-py2.py3-none-any.whl (23 kB)\n",
            "Requirement already satisfied: numpy>=1.14.5 in /usr/local/lib/python3.7/dist-packages (from h5py==3.1.0->pykospacing==0.5) (1.21.6)\n",
            "Requirement already satisfied: cached-property in /usr/local/lib/python3.7/dist-packages (from h5py==3.1.0->pykospacing==0.5) (1.5.2)\n",
            "Requirement already satisfied: termcolor>=1.1.0 in /usr/local/lib/python3.7/dist-packages (from tensorflow==2.7.2->pykospacing==0.5) (1.1.0)\n",
            "Requirement already satisfied: typing-extensions>=3.6.6 in /usr/local/lib/python3.7/dist-packages (from tensorflow==2.7.2->pykospacing==0.5) (4.1.1)\n",
            "Requirement already satisfied: libclang>=9.0.1 in /usr/local/lib/python3.7/dist-packages (from tensorflow==2.7.2->pykospacing==0.5) (14.0.6)\n",
            "Requirement already satisfied: six>=1.12.0 in /usr/local/lib/python3.7/dist-packages (from tensorflow==2.7.2->pykospacing==0.5) (1.15.0)\n",
            "Requirement already satisfied: grpcio<2.0,>=1.24.3 in /usr/local/lib/python3.7/dist-packages (from tensorflow==2.7.2->pykospacing==0.5) (1.47.0)\n",
            "Requirement already satisfied: tensorflow-io-gcs-filesystem>=0.21.0 in /usr/local/lib/python3.7/dist-packages (from tensorflow==2.7.2->pykospacing==0.5) (0.26.0)\n",
            "Requirement already satisfied: flatbuffers<3.0,>=1.12 in /usr/local/lib/python3.7/dist-packages (from tensorflow==2.7.2->pykospacing==0.5) (2.0)\n",
            "Requirement already satisfied: tensorboard~=2.6 in /usr/local/lib/python3.7/dist-packages (from tensorflow==2.7.2->pykospacing==0.5) (2.8.0)\n",
            "Requirement already satisfied: absl-py>=0.4.0 in /usr/local/lib/python3.7/dist-packages (from tensorflow==2.7.2->pykospacing==0.5) (1.2.0)\n",
            "Requirement already satisfied: protobuf>=3.9.2 in /usr/local/lib/python3.7/dist-packages (from tensorflow==2.7.2->pykospacing==0.5) (3.17.3)\n",
            "Requirement already satisfied: keras-preprocessing>=1.1.1 in /usr/local/lib/python3.7/dist-packages (from tensorflow==2.7.2->pykospacing==0.5) (1.1.2)\n",
            "Requirement already satisfied: opt-einsum>=2.3.2 in /usr/local/lib/python3.7/dist-packages (from tensorflow==2.7.2->pykospacing==0.5) (3.3.0)\n",
            "Requirement already satisfied: astunparse>=1.6.0 in /usr/local/lib/python3.7/dist-packages (from tensorflow==2.7.2->pykospacing==0.5) (1.6.3)\n",
            "Requirement already satisfied: google-pasta>=0.1.1 in /usr/local/lib/python3.7/dist-packages (from tensorflow==2.7.2->pykospacing==0.5) (0.2.0)\n",
            "Requirement already satisfied: wheel<1.0,>=0.32.0 in /usr/local/lib/python3.7/dist-packages (from tensorflow==2.7.2->pykospacing==0.5) (0.37.1)\n",
            "Collecting keras<2.8,>=2.7.0rc0\n",
            "  Downloading keras-2.7.0-py2.py3-none-any.whl (1.3 MB)\n",
            "\u001b[K     |████████████████████████████████| 1.3 MB 5.2 MB/s \n",
            "\u001b[?25hRequirement already satisfied: wrapt>=1.11.0 in /usr/local/lib/python3.7/dist-packages (from tensorflow==2.7.2->pykospacing==0.5) (1.14.1)\n",
            "Collecting gast<0.5.0,>=0.2.1\n",
            "  Downloading gast-0.4.0-py3-none-any.whl (9.8 kB)\n",
            "Collecting tensorflow-estimator<2.8,~=2.7.0rc0\n",
            "  Downloading tensorflow_estimator-2.7.0-py2.py3-none-any.whl (463 kB)\n",
            "\u001b[K     |████████████████████████████████| 463 kB 47.4 MB/s \n",
            "\u001b[?25hRequirement already satisfied: setuptools>=41.0.0 in /usr/local/lib/python3.7/dist-packages (from tensorboard~=2.6->tensorflow==2.7.2->pykospacing==0.5) (57.4.0)\n",
            "Requirement already satisfied: markdown>=2.6.8 in /usr/local/lib/python3.7/dist-packages (from tensorboard~=2.6->tensorflow==2.7.2->pykospacing==0.5) (3.4.1)\n",
            "Requirement already satisfied: google-auth<3,>=1.6.3 in /usr/local/lib/python3.7/dist-packages (from tensorboard~=2.6->tensorflow==2.7.2->pykospacing==0.5) (1.35.0)\n",
            "Requirement already satisfied: tensorboard-data-server<0.7.0,>=0.6.0 in /usr/local/lib/python3.7/dist-packages (from tensorboard~=2.6->tensorflow==2.7.2->pykospacing==0.5) (0.6.1)\n",
            "Requirement already satisfied: tensorboard-plugin-wit>=1.6.0 in /usr/local/lib/python3.7/dist-packages (from tensorboard~=2.6->tensorflow==2.7.2->pykospacing==0.5) (1.8.1)\n",
            "Requirement already satisfied: werkzeug>=0.11.15 in /usr/local/lib/python3.7/dist-packages (from tensorboard~=2.6->tensorflow==2.7.2->pykospacing==0.5) (1.0.1)\n",
            "Requirement already satisfied: google-auth-oauthlib<0.5,>=0.4.1 in /usr/local/lib/python3.7/dist-packages (from tensorboard~=2.6->tensorflow==2.7.2->pykospacing==0.5) (0.4.6)\n",
            "Requirement already satisfied: requests<3,>=2.21.0 in /usr/local/lib/python3.7/dist-packages (from tensorboard~=2.6->tensorflow==2.7.2->pykospacing==0.5) (2.23.0)\n",
            "Requirement already satisfied: pyasn1-modules>=0.2.1 in /usr/local/lib/python3.7/dist-packages (from google-auth<3,>=1.6.3->tensorboard~=2.6->tensorflow==2.7.2->pykospacing==0.5) (0.2.8)\n",
            "Requirement already satisfied: rsa<5,>=3.1.4 in /usr/local/lib/python3.7/dist-packages (from google-auth<3,>=1.6.3->tensorboard~=2.6->tensorflow==2.7.2->pykospacing==0.5) (4.9)\n",
            "Requirement already satisfied: cachetools<5.0,>=2.0.0 in /usr/local/lib/python3.7/dist-packages (from google-auth<3,>=1.6.3->tensorboard~=2.6->tensorflow==2.7.2->pykospacing==0.5) (4.2.4)\n",
            "Requirement already satisfied: requests-oauthlib>=0.7.0 in /usr/local/lib/python3.7/dist-packages (from google-auth-oauthlib<0.5,>=0.4.1->tensorboard~=2.6->tensorflow==2.7.2->pykospacing==0.5) (1.3.1)\n",
            "Requirement already satisfied: importlib-metadata>=4.4 in /usr/local/lib/python3.7/dist-packages (from markdown>=2.6.8->tensorboard~=2.6->tensorflow==2.7.2->pykospacing==0.5) (4.12.0)\n",
            "Requirement already satisfied: zipp>=0.5 in /usr/local/lib/python3.7/dist-packages (from importlib-metadata>=4.4->markdown>=2.6.8->tensorboard~=2.6->tensorflow==2.7.2->pykospacing==0.5) (3.8.1)\n",
            "Requirement already satisfied: pyasn1<0.5.0,>=0.4.6 in /usr/local/lib/python3.7/dist-packages (from pyasn1-modules>=0.2.1->google-auth<3,>=1.6.3->tensorboard~=2.6->tensorflow==2.7.2->pykospacing==0.5) (0.4.8)\n",
            "Requirement already satisfied: chardet<4,>=3.0.2 in /usr/local/lib/python3.7/dist-packages (from requests<3,>=2.21.0->tensorboard~=2.6->tensorflow==2.7.2->pykospacing==0.5) (3.0.4)\n",
            "Requirement already satisfied: idna<3,>=2.5 in /usr/local/lib/python3.7/dist-packages (from requests<3,>=2.21.0->tensorboard~=2.6->tensorflow==2.7.2->pykospacing==0.5) (2.10)\n",
            "Requirement already satisfied: certifi>=2017.4.17 in /usr/local/lib/python3.7/dist-packages (from requests<3,>=2.21.0->tensorboard~=2.6->tensorflow==2.7.2->pykospacing==0.5) (2022.6.15)\n",
            "Requirement already satisfied: urllib3!=1.25.0,!=1.25.1,<1.26,>=1.21.1 in /usr/local/lib/python3.7/dist-packages (from requests<3,>=2.21.0->tensorboard~=2.6->tensorflow==2.7.2->pykospacing==0.5) (1.24.3)\n",
            "Requirement already satisfied: oauthlib>=3.0.0 in /usr/local/lib/python3.7/dist-packages (from requests-oauthlib>=0.7.0->google-auth-oauthlib<0.5,>=0.4.1->tensorboard~=2.6->tensorflow==2.7.2->pykospacing==0.5) (3.2.0)\n",
            "Building wheels for collected packages: pykospacing\n",
            "  Building wheel for pykospacing (setup.py) ... \u001b[?25l\u001b[?25hdone\n",
            "  Created wheel for pykospacing: filename=pykospacing-0.5-py3-none-any.whl size=2268638 sha256=8b3caf9cb60322ea1f85b03a5c7e014e6e0c8ee5b4d6f56bcbb4a3c7a4cb55a2\n",
            "  Stored in directory: /tmp/pip-ephem-wheel-cache-ek1csivf/wheels/9b/93/81/a2a7dc8c66ede5bf30634d20635f32b95eac7ca2ea8844058b\n",
            "Successfully built pykospacing\n",
            "Installing collected packages: tensorflow-estimator, keras, gast, tensorflow, argparse, pykospacing\n",
            "  Attempting uninstall: tensorflow-estimator\n",
            "    Found existing installation: tensorflow-estimator 2.8.0\n",
            "    Uninstalling tensorflow-estimator-2.8.0:\n",
            "      Successfully uninstalled tensorflow-estimator-2.8.0\n",
            "  Attempting uninstall: keras\n",
            "    Found existing installation: keras 2.8.0\n",
            "    Uninstalling keras-2.8.0:\n",
            "      Successfully uninstalled keras-2.8.0\n",
            "  Attempting uninstall: gast\n",
            "    Found existing installation: gast 0.5.3\n",
            "    Uninstalling gast-0.5.3:\n",
            "      Successfully uninstalled gast-0.5.3\n",
            "  Attempting uninstall: tensorflow\n",
            "    Found existing installation: tensorflow 2.8.2+zzzcolab20220719082949\n",
            "    Uninstalling tensorflow-2.8.2+zzzcolab20220719082949:\n",
            "      Successfully uninstalled tensorflow-2.8.2+zzzcolab20220719082949\n",
            "Successfully installed argparse-1.4.0 gast-0.4.0 keras-2.7.0 pykospacing-0.5 tensorflow-2.7.2+zzzcolab20220516114640 tensorflow-estimator-2.7.0\n"
          ]
        },
        {
          "output_type": "display_data",
          "data": {
            "application/vnd.colab-display-data+json": {
              "pip_warning": {
                "packages": [
                  "argparse",
                  "gast",
                  "keras",
                  "tensorflow"
                ]
              }
            }
          },
          "metadata": {}
        },
        {
          "output_type": "stream",
          "name": "stdout",
          "text": [
            "Looking in indexes: https://pypi.org/simple, https://us-python.pkg.dev/colab-wheels/public/simple/\n",
            "Collecting git+https://github.com/ssut/py-hanspell.git\n",
            "  Cloning https://github.com/ssut/py-hanspell.git to /tmp/pip-req-build-9m8mqzq8\n",
            "  Running command git clone -q https://github.com/ssut/py-hanspell.git /tmp/pip-req-build-9m8mqzq8\n",
            "Requirement already satisfied: requests in /usr/local/lib/python3.7/dist-packages (from py-hanspell==1.1) (2.23.0)\n",
            "Requirement already satisfied: urllib3!=1.25.0,!=1.25.1,<1.26,>=1.21.1 in /usr/local/lib/python3.7/dist-packages (from requests->py-hanspell==1.1) (1.24.3)\n",
            "Requirement already satisfied: certifi>=2017.4.17 in /usr/local/lib/python3.7/dist-packages (from requests->py-hanspell==1.1) (2022.6.15)\n",
            "Requirement already satisfied: idna<3,>=2.5 in /usr/local/lib/python3.7/dist-packages (from requests->py-hanspell==1.1) (2.10)\n",
            "Requirement already satisfied: chardet<4,>=3.0.2 in /usr/local/lib/python3.7/dist-packages (from requests->py-hanspell==1.1) (3.0.4)\n",
            "Building wheels for collected packages: py-hanspell\n",
            "  Building wheel for py-hanspell (setup.py) ... \u001b[?25l\u001b[?25hdone\n",
            "  Created wheel for py-hanspell: filename=py_hanspell-1.1-py3-none-any.whl size=4868 sha256=194680ca1613dc906fefcb5c86f7c381c0b980758685688a4a037a6bc296adf6\n",
            "  Stored in directory: /tmp/pip-ephem-wheel-cache-yaotuciz/wheels/ab/f5/7b/d4124bb329c905301baed80e2ae45aa14e824f62ebc3ec2cc4\n",
            "Successfully built py-hanspell\n",
            "Installing collected packages: py-hanspell\n",
            "Successfully installed py-hanspell-1.1\n"
          ]
        }
      ]
    },
    {
      "cell_type": "code",
      "source": [
        "#함수 - hanspell 맞춤법 수정 \n",
        "def han_spell_check(x):\n",
        "  x = x.strip()\n",
        "  res = spell_checker.check(x)\n",
        "  result = res.checked\n",
        "  return result"
      ],
      "metadata": {
        "id": "BhRNy7Tr2ZT5"
      },
      "execution_count": null,
      "outputs": []
    },
    {
      "cell_type": "code",
      "source": [
        "#hanspell 적용\n",
        "df['clen_text_hansp'] = df['clean_text'].apply(han_spell_check)"
      ],
      "metadata": {
        "id": "-cqubb1f117s"
      },
      "execution_count": null,
      "outputs": []
    },
    {
      "cell_type": "code",
      "source": [
        "#pykospacing 모델설정\n",
        "spacing = Spacing()"
      ],
      "metadata": {
        "id": "OM_tb6o61DyK"
      },
      "execution_count": null,
      "outputs": []
    },
    {
      "cell_type": "code",
      "source": [
        "#pykospacing 적용\n",
        "df['clean_text_pyko'] = df['clen_text_hansp'].apply(spacing)"
      ],
      "metadata": {
        "id": "lYTf4bqpJjaY",
        "colab": {
          "base_uri": "https://localhost:8080/"
        },
        "outputId": "ebaef876-3210-4953-9671-4e9cc2853481"
      },
      "execution_count": null,
      "outputs": [
        {
          "output_type": "stream",
          "name": "stderr",
          "text": [
            "WARNING:tensorflow:AutoGraph could not transform <function Model.make_predict_function.<locals>.predict_function at 0x7fa37dd5cc20> and will run it as-is.\n",
            "Please report this to the TensorFlow team. When filing the bug, set the verbosity to 10 (on Linux, `export AUTOGRAPH_VERBOSITY=10`) and attach the full output.\n",
            "Cause: Unknown node type <gast.gast.Expr object at 0x7fa37728bc50>\n",
            "To silence this warning, decorate the function with @tf.autograph.experimental.do_not_convert\n"
          ]
        },
        {
          "output_type": "stream",
          "name": "stdout",
          "text": [
            "WARNING: AutoGraph could not transform <function Model.make_predict_function.<locals>.predict_function at 0x7fa37dd5cc20> and will run it as-is.\n",
            "Please report this to the TensorFlow team. When filing the bug, set the verbosity to 10 (on Linux, `export AUTOGRAPH_VERBOSITY=10`) and attach the full output.\n",
            "Cause: Unknown node type <gast.gast.Expr object at 0x7fa37728bc50>\n",
            "To silence this warning, decorate the function with @tf.autograph.experimental.do_not_convert\n"
          ]
        }
      ]
    },
    {
      "cell_type": "code",
      "source": [
        "#W2V 모델 정의\n",
        "model = Word2Vec(sentences, min_count=1)\n",
        "   \n",
        "def sent_vectorizer(sent, model):\n",
        "    sent_vec =[]\n",
        "    numw = 0\n",
        "    for w in sent:\n",
        "        try:\n",
        "            if numw == 0:\n",
        "                sent_vec = model[w]\n",
        "            else:\n",
        "                sent_vec = np.add(sent_vec, model[w])\n",
        "            numw+=1\n",
        "        except:\n",
        "            pass\n",
        "     \n",
        "    return np.asarray(sent_vec) / numw"
      ],
      "metadata": {
        "id": "u3o6uLKMqAIU",
        "colab": {
          "base_uri": "https://localhost:8080/"
        },
        "outputId": "5375e487-f107-41f6-d61d-106adb6a6752"
      },
      "execution_count": null,
      "outputs": [
        {
          "output_type": "stream",
          "name": "stderr",
          "text": [
            "WARNING:gensim.models.base_any2vec:under 10 jobs per worker: consider setting a smaller `batch_words' for smoother alpha decay\n"
          ]
        }
      ]
    },
    {
      "cell_type": "code",
      "source": [
        "sentences = df[\"clean_text_pyko\"]"
      ],
      "metadata": {
        "id": "TowALsUGrgue"
      },
      "execution_count": null,
      "outputs": []
    },
    {
      "cell_type": "code",
      "source": [
        "#학습\n",
        "X=[]\n",
        "for sentence in sentences:\n",
        "    X.append(sent_vectorizer(sentence, model))   \n",
        " \n",
        "print (\"========================\")\n",
        "print (X)"
      ],
      "metadata": {
        "id": "FbtCw2gMrbWN",
        "colab": {
          "base_uri": "https://localhost:8080/"
        },
        "outputId": "3131bbd0-af54-4cc2-b7fd-902fff433aae"
      },
      "execution_count": null,
      "outputs": [
        {
          "output_type": "stream",
          "name": "stdout",
          "text": [
            "========================\n",
            "[array([], dtype=float64), array([], dtype=float64), array([], dtype=float64), array([], dtype=float64), array([], dtype=float64), array([], dtype=float64), array([], dtype=float64), array([], dtype=float64), array([], dtype=float64), array([], dtype=float64), array([], dtype=float64), array([], dtype=float64), array([], dtype=float64), array([], dtype=float64), array([], dtype=float64), array([], dtype=float64), array([], dtype=float64), array([], dtype=float64), array([], dtype=float64), array([], dtype=float64), array([], dtype=float64), array([], dtype=float64), array([], dtype=float64), array([], dtype=float64), array([], dtype=float64), array([], dtype=float64), array([], dtype=float64), array([], dtype=float64), array([], dtype=float64), array([], dtype=float64), array([], dtype=float64), array([], dtype=float64), array([], dtype=float64), array([], dtype=float64), array([], dtype=float64), array([], dtype=float64), array([], dtype=float64), array([], dtype=float64), array([], dtype=float64), array([], dtype=float64), array([], dtype=float64), array([], dtype=float64), array([], dtype=float64), array([], dtype=float64), array([], dtype=float64), array([], dtype=float64), array([], dtype=float64), array([], dtype=float64), array([], dtype=float64), array([], dtype=float64), array([], dtype=float64), array([], dtype=float64), array([], dtype=float64), array([], dtype=float64), array([], dtype=float64), array([], dtype=float64), array([], dtype=float64), array([], dtype=float64), array([], dtype=float64), array([], dtype=float64), array([], dtype=float64), array([], dtype=float64), array([], dtype=float64), array([], dtype=float64), array([], dtype=float64), array([], dtype=float64), array([], dtype=float64), array([], dtype=float64), array([], dtype=float64), array([], dtype=float64), array([], dtype=float64), array([], dtype=float64), array([], dtype=float64), array([], dtype=float64), array([], dtype=float64), array([], dtype=float64), array([], dtype=float64), array([], dtype=float64), array([], dtype=float64), array([], dtype=float64), array([], dtype=float64), array([], dtype=float64), array([], dtype=float64), array([], dtype=float64), array([], dtype=float64), array([], dtype=float64), array([], dtype=float64), array([], dtype=float64), array([], dtype=float64), array([], dtype=float64), array([], dtype=float64), array([], dtype=float64), array([], dtype=float64), array([], dtype=float64), array([], dtype=float64), array([], dtype=float64), array([], dtype=float64), array([], dtype=float64), array([], dtype=float64), array([], dtype=float64), array([], dtype=float64), array([], dtype=float64), array([], dtype=float64), array([], dtype=float64), array([], dtype=float64), array([], dtype=float64), array([], dtype=float64), array([], dtype=float64), array([], dtype=float64), array([], dtype=float64), array([], dtype=float64), array([], dtype=float64), array([], dtype=float64), array([], dtype=float64), array([], dtype=float64), array([], dtype=float64), array([], dtype=float64), array([], dtype=float64), array([], dtype=float64), array([], dtype=float64), array([], dtype=float64), array([], dtype=float64), array([], dtype=float64), array([], dtype=float64), array([], dtype=float64), array([], dtype=float64), array([], dtype=float64), array([], dtype=float64), array([], dtype=float64), array([], dtype=float64), array([], dtype=float64), array([], dtype=float64), array([], dtype=float64), array([], dtype=float64), array([], dtype=float64), array([], dtype=float64), array([], dtype=float64), array([], dtype=float64), array([], dtype=float64), array([], dtype=float64), array([], dtype=float64), array([], dtype=float64), array([], dtype=float64), array([], dtype=float64), array([], dtype=float64), array([], dtype=float64), array([], dtype=float64), array([], dtype=float64), array([], dtype=float64), array([], dtype=float64), array([], dtype=float64), array([], dtype=float64), array([], dtype=float64), array([], dtype=float64), array([], dtype=float64), array([], dtype=float64), array([], dtype=float64), array([], dtype=float64), array([], dtype=float64), array([], dtype=float64), array([], dtype=float64), array([], dtype=float64), array([], dtype=float64), array([], dtype=float64), array([], dtype=float64), array([], dtype=float64), array([], dtype=float64), array([], dtype=float64), array([], dtype=float64), array([], dtype=float64), array([], dtype=float64), array([], dtype=float64), array([], dtype=float64), array([], dtype=float64), array([], dtype=float64), array([], dtype=float64), array([], dtype=float64), array([], dtype=float64), array([], dtype=float64), array([], dtype=float64), array([], dtype=float64), array([], dtype=float64), array([], dtype=float64), array([], dtype=float64), array([], dtype=float64), array([], dtype=float64), array([], dtype=float64), array([], dtype=float64), array([], dtype=float64), array([], dtype=float64), array([], dtype=float64), array([], dtype=float64), array([], dtype=float64), array([], dtype=float64), array([], dtype=float64), array([], dtype=float64), array([], dtype=float64), array([], dtype=float64), array([], dtype=float64), array([], dtype=float64), array([], dtype=float64), array([], dtype=float64), array([], dtype=float64), array([], dtype=float64), array([], dtype=float64), array([], dtype=float64), array([], dtype=float64), array([], dtype=float64), array([], dtype=float64), array([], dtype=float64), array([], dtype=float64), array([], dtype=float64), array([], dtype=float64), array([], dtype=float64), array([], dtype=float64), array([], dtype=float64), array([], dtype=float64), array([], dtype=float64), array([], dtype=float64), array([], dtype=float64), array([], dtype=float64), array([], dtype=float64), array([], dtype=float64), array([], dtype=float64), array([], dtype=float64), array([], dtype=float64), array([], dtype=float64), array([], dtype=float64), array([], dtype=float64), array([], dtype=float64), array([], dtype=float64), array([], dtype=float64), array([], dtype=float64), array([], dtype=float64), array([], dtype=float64), array([], dtype=float64), array([], dtype=float64), array([], dtype=float64), array([], dtype=float64), array([], dtype=float64), array([], dtype=float64), array([], dtype=float64), array([], dtype=float64), array([], dtype=float64), array([], dtype=float64), array([], dtype=float64), array([], dtype=float64), array([], dtype=float64), array([], dtype=float64), array([], dtype=float64), array([], dtype=float64), array([], dtype=float64), array([], dtype=float64), array([], dtype=float64), array([], dtype=float64), array([], dtype=float64), array([], dtype=float64), array([], dtype=float64), array([], dtype=float64), array([], dtype=float64), array([], dtype=float64), array([], dtype=float64), array([], dtype=float64), array([], dtype=float64), array([], dtype=float64), array([], dtype=float64), array([], dtype=float64), array([], dtype=float64), array([], dtype=float64), array([], dtype=float64), array([], dtype=float64), array([], dtype=float64), array([], dtype=float64), array([], dtype=float64), array([], dtype=float64), array([], dtype=float64), array([], dtype=float64), array([], dtype=float64), array([], dtype=float64), array([], dtype=float64), array([], dtype=float64), array([], dtype=float64), array([], dtype=float64), array([], dtype=float64), array([], dtype=float64), array([], dtype=float64), array([], dtype=float64), array([], dtype=float64), array([], dtype=float64), array([], dtype=float64), array([], dtype=float64), array([], dtype=float64), array([], dtype=float64), array([], dtype=float64), array([], dtype=float64), array([], dtype=float64), array([], dtype=float64), array([], dtype=float64), array([], dtype=float64), array([], dtype=float64), array([], dtype=float64), array([], dtype=float64), array([], dtype=float64), array([], dtype=float64), array([], dtype=float64), array([], dtype=float64), array([], dtype=float64), array([], dtype=float64), array([], dtype=float64), array([], dtype=float64), array([], dtype=float64), array([], dtype=float64), array([], dtype=float64), array([], dtype=float64), array([], dtype=float64), array([], dtype=float64), array([], dtype=float64), array([], dtype=float64), array([], dtype=float64), array([], dtype=float64), array([], dtype=float64), array([], dtype=float64), array([], dtype=float64), array([], dtype=float64), array([], dtype=float64), array([], dtype=float64), array([], dtype=float64), array([], dtype=float64), array([], dtype=float64), array([], dtype=float64), array([], dtype=float64), array([], dtype=float64)]\n"
          ]
        },
        {
          "output_type": "stream",
          "name": "stderr",
          "text": [
            "/usr/local/lib/python3.7/dist-packages/ipykernel_launcher.py:10: DeprecationWarning: Call to deprecated `__getitem__` (Method will be removed in 4.0.0, use self.wv.__getitem__() instead).\n",
            "  # Remove the CWD from sys.path while we load stuff.\n"
          ]
        }
      ]
    },
    {
      "cell_type": "code",
      "source": [
        "import os\n",
        "os.environ['TF_FORCE_GPU_ALLOW_GROWTH'] = 'true'"
      ],
      "metadata": {
        "id": "_XSrbdaOrDMO"
      },
      "execution_count": null,
      "outputs": []
    },
    {
      "cell_type": "code",
      "source": [
        "#클러스터링\n",
        "NUM_CLUSTERS = 6\n",
        "kclusterer = KMeansClusterer(NUM_CLUSTERS, distance=nltk.cluster.util.cosine_distance, repeats=25, avoid_empty_clusters=True)\n",
        "assigned_clusters = kclusterer.cluster(X, assign_clusters=True)\n",
        "print (assigned_clusters)   \n",
        "  \n",
        "for index, sentence in enumerate(sentences):    \n",
        "    print (str(assigned_clusters[index]) + \":\" + str(sentence))     \n",
        "     \n",
        "kmeans = cluster.KMeans(n_clusters=NUM_CLUSTERS)\n",
        "kmeans.fit(X)"
      ],
      "metadata": {
        "id": "5ZnAKkKBr1Oc",
        "colab": {
          "base_uri": "https://localhost:8080/"
        },
        "outputId": "a5556606-cab4-4265-ad26-85c930387cc7"
      },
      "execution_count": null,
      "outputs": [
        {
          "output_type": "stream",
          "name": "stderr",
          "text": [
            "/usr/local/lib/python3.7/dist-packages/nltk/cluster/util.py:130: RuntimeWarning: invalid value encountered in double_scalars\n",
            "  return 1 - (numpy.dot(u, v) / (sqrt(numpy.dot(u, u)) * sqrt(numpy.dot(v, v))))\n"
          ]
        }
      ]
    },
    {
      "cell_type": "code",
      "source": [
        "#클러스터링 결과\n",
        "labels = kmeans.labels_\n",
        "centroids = kmeans.cluster_centers_\n",
        "  \n",
        "print (\"Cluster id labels for inputted data\")\n",
        "print (labels)\n",
        "print (\"-----------\")\n",
        "print (\"Centroids data\")\n",
        "print (centroids)\n",
        "print (\"-----------\")  \n",
        "print (\"Score (Opposite of the value of X on the K-means objective which is Sum of distances of samples to their closest cluster center):\")\n",
        "print (kmeans.score(X))"
      ],
      "metadata": {
        "id": "O_IvGXezr1Od"
      },
      "execution_count": null,
      "outputs": []
    },
    {
      "cell_type": "code",
      "source": [
        "#평가\n",
        "silhouette_score = metrics.silhouette_score(X, labels, metric='euclidean')\n",
        "print (\"Silhouette_score: \")\n",
        "print (silhouette_score) "
      ],
      "metadata": {
        "id": "e78UAWNIr1Of"
      },
      "execution_count": null,
      "outputs": []
    },
    {
      "cell_type": "code",
      "source": [
        "#클러스터링 시각화\n",
        "import matplotlib.pyplot as plt \n",
        "from sklearn.manifold import TSNE\n",
        " \n",
        "model = TSNE(n_components=2, random_state=0)\n",
        "np.set_printoptions(suppress=True)\n",
        " \n",
        "Y=model.fit_transform(X)\n",
        "  \n",
        "plt.scatter(Y[:, 0], Y[:, 1], c=assigned_clusters, s=290,alpha=.5)\n",
        "  \n",
        "for j in range(len(sentences)):    \n",
        "   plt.annotate(assigned_clusters[j],xy=(Y[j][0], Y[j][1]),xytext=(0,0),textcoords='offset points')\n",
        "   print (\"%s %s\" % (assigned_clusters[j],  sentences[j]))\n",
        " \n",
        "plt.show()"
      ],
      "metadata": {
        "id": "85xC3jhDr1Og"
      },
      "execution_count": null,
      "outputs": []
    },
    {
      "cell_type": "code",
      "source": [
        "#기존 NLP df에 열로 추가\n",
        "df['cluster_num'] = assigned_clusters\n",
        "df"
      ],
      "metadata": {
        "id": "GZ3MaFd8tEse"
      },
      "execution_count": null,
      "outputs": []
    },
    {
      "cell_type": "code",
      "source": [
        "#파일 내보내기\n",
        "df.to_excel('견적서_cluster.xlsx')"
      ],
      "metadata": {
        "id": "OeRWDoAQtyzV"
      },
      "execution_count": null,
      "outputs": []
    }
  ]
}